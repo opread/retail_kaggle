{
 "cells": [
  {
   "cell_type": "code",
   "execution_count": 1,
   "metadata": {},
   "outputs": [],
   "source": [
    "# prepare forecasting model for retailer’s sales that would predict weekly sales for the next 8 weeks.\n",
    "# You are asked to provide store-level sales forecasts as well as the network forecast."
   ]
  },
  {
   "cell_type": "markdown",
   "metadata": {},
   "source": [
    "### Data Summary\n",
    "#### Stores\n",
    "- Anonymized information about 45 stores, indicating the type and size of the store.\n",
    "- Stores: are numbered 1 - 45\n",
    "- Types: I see there are 3 types of stores A,B,C apparently categorical based on the size\n",
    "- Size: I think it is the store capacity. Size is ranging from ~30k -220k\n",
    "\n",
    "#### Features\n",
    "Contains additional data related to the store, department, and regional activity for the given dates.\n",
    "- Store: store number 1 - 45\n",
    "- Date: Date of the week when the data was recorded \n",
    "- mperature: average temperature in the region\n",
    "- Fuel_Price: cost of fuel in the region\n",
    "- MarkDown1-5: - anonymized data related to promotional markdowns. MarkDown data is only available\n",
    "after Nov 2011 and is not available for all stores all the time. Any missing value is marked with an NA\n",
    "- CPI: the consumer price index\n",
    "- Unemployment: the unemployment rate\n",
    "- IsHoliday: boolean, whether the week is a special holiday week\n",
    "\n",
    "#### Sales\n",
    "- Store - store number\n",
    "- Dept - department number\n",
    "- Date – week number\n",
    "- Weekly_Sales - sales for the given department in the given store\n",
    "- IsHoliday - whether the week is a special holiday week"
   ]
  },
  {
   "cell_type": "code",
   "execution_count": 2,
   "metadata": {},
   "outputs": [],
   "source": [
    "# Import libraries to be used\n",
    "import pandas as pd\n",
    "import numpy as np\n",
    "import seaborn as sns\n",
    "import matplotlib.pyplot as plt"
   ]
  },
  {
   "cell_type": "code",
   "execution_count": 3,
   "metadata": {},
   "outputs": [
    {
     "name": "stdout",
     "output_type": "stream",
     "text": [
      "current directory is : C:\\Users\\User\\projects\\retail_kaggle\\retail_kaggle\n",
      "the /data folder contains:\n",
      "['Features data set.csv', 'sales data-set.csv', 'stores data-set.csv']\n"
     ]
    }
   ],
   "source": [
    "## Data Source: https://www.kaggle.com/manjeetsingh/retaildataset\n",
    "# read the ['Features data set.csv', 'sales data-set.csv', 'stores data-set.csv'] from the /data folder\n",
    "import os\n",
    "print(\"current directory is : \" + os.getcwd()) \n",
    "print('the /data folder contains:') \n",
    "print(os.listdir(\"./data\"))\n",
    "\n",
    "stores = pd.read_csv('./data/stores data-set.csv')\n",
    "features = pd.read_csv('./data/Features data set.csv')\n",
    "sales = pd.read_csv('./data/sales data-set.csv')"
   ]
  },
  {
   "cell_type": "code",
   "execution_count": 4,
   "metadata": {},
   "outputs": [],
   "source": [
    "######## 1. Understand the data and cleanup ##############"
   ]
  },
  {
   "cell_type": "code",
   "execution_count": 5,
   "metadata": {},
   "outputs": [
    {
     "data": {
      "text/html": [
       "<div>\n",
       "<style scoped>\n",
       "    .dataframe tbody tr th:only-of-type {\n",
       "        vertical-align: middle;\n",
       "    }\n",
       "\n",
       "    .dataframe tbody tr th {\n",
       "        vertical-align: top;\n",
       "    }\n",
       "\n",
       "    .dataframe thead th {\n",
       "        text-align: right;\n",
       "    }\n",
       "</style>\n",
       "<table border=\"1\" class=\"dataframe\">\n",
       "  <thead>\n",
       "    <tr style=\"text-align: right;\">\n",
       "      <th></th>\n",
       "      <th>Store</th>\n",
       "      <th>Type</th>\n",
       "      <th>Size</th>\n",
       "    </tr>\n",
       "  </thead>\n",
       "  <tbody>\n",
       "    <tr>\n",
       "      <th>0</th>\n",
       "      <td>1</td>\n",
       "      <td>A</td>\n",
       "      <td>151315</td>\n",
       "    </tr>\n",
       "    <tr>\n",
       "      <th>1</th>\n",
       "      <td>2</td>\n",
       "      <td>A</td>\n",
       "      <td>202307</td>\n",
       "    </tr>\n",
       "    <tr>\n",
       "      <th>2</th>\n",
       "      <td>3</td>\n",
       "      <td>B</td>\n",
       "      <td>37392</td>\n",
       "    </tr>\n",
       "    <tr>\n",
       "      <th>3</th>\n",
       "      <td>4</td>\n",
       "      <td>A</td>\n",
       "      <td>205863</td>\n",
       "    </tr>\n",
       "    <tr>\n",
       "      <th>4</th>\n",
       "      <td>5</td>\n",
       "      <td>B</td>\n",
       "      <td>34875</td>\n",
       "    </tr>\n",
       "  </tbody>\n",
       "</table>\n",
       "</div>"
      ],
      "text/plain": [
       "   Store Type    Size\n",
       "0      1    A  151315\n",
       "1      2    A  202307\n",
       "2      3    B   37392\n",
       "3      4    A  205863\n",
       "4      5    B   34875"
      ]
     },
     "execution_count": 5,
     "metadata": {},
     "output_type": "execute_result"
    }
   ],
   "source": [
    "######## 1.1 stores dataset ############### \n",
    "# many stores, categorical Type and the Size of the shop?\n",
    "stores.head()"
   ]
  },
  {
   "cell_type": "code",
   "execution_count": 6,
   "metadata": {},
   "outputs": [
    {
     "data": {
      "text/plain": [
       "<matplotlib.axes._subplots.AxesSubplot at 0x238cf18b470>"
      ]
     },
     "execution_count": 6,
     "metadata": {},
     "output_type": "execute_result"
    },
    {
     "data": {
      "image/png": "[encoded data removed]",
      "text/plain": [
       "<matplotlib.figure.Figure at 0x238cea73400>"
      ]
     },
     "metadata": {},
     "output_type": "display_data"
    }
   ],
   "source": [
    "# Apparently there are 3 types of stores, each type belongs to a size range\n",
    "sns.set_style('whitegrid')\n",
    "sns.boxplot(x='Type',y='Size', data=stores)"
   ]
  },
  {
   "cell_type": "code",
   "execution_count": 7,
   "metadata": {},
   "outputs": [
    {
     "data": {
      "text/plain": [
       "A    22\n",
       "B    17\n",
       "C     6\n",
       "Name: Type, dtype: int64"
      ]
     },
     "execution_count": 7,
     "metadata": {},
     "output_type": "execute_result"
    }
   ],
   "source": [
    "# how many Stores are there / by Type ?\n",
    "stores['Type'].value_counts()"
   ]
  },
  {
   "cell_type": "code",
   "execution_count": 8,
   "metadata": {},
   "outputs": [
    {
     "name": "stdout",
     "output_type": "stream",
     "text": [
      "Store     int64\n",
      "Type     object\n",
      "Size      int64\n",
      "dtype: object\n"
     ]
    }
   ],
   "source": [
    "print(stores.dtypes)"
   ]
  },
  {
   "cell_type": "code",
   "execution_count": 9,
   "metadata": {},
   "outputs": [
    {
     "data": {
      "text/plain": [
       "Store    0\n",
       "Type     0\n",
       "Size     0\n",
       "dtype: int64"
      ]
     },
     "execution_count": 9,
     "metadata": {},
     "output_type": "execute_result"
    }
   ],
   "source": [
    "# Is the dataset clean? Yes\n",
    "stores.isna().sum()"
   ]
  },
  {
   "cell_type": "code",
   "execution_count": 10,
   "metadata": {},
   "outputs": [],
   "source": [
    "######## 1.2 features dataset ############### "
   ]
  },
  {
   "cell_type": "code",
   "execution_count": 11,
   "metadata": {},
   "outputs": [
    {
     "data": {
      "text/html": [
       "<div>\n",
       "<style scoped>\n",
       "    .dataframe tbody tr th:only-of-type {\n",
       "        vertical-align: middle;\n",
       "    }\n",
       "\n",
       "    .dataframe tbody tr th {\n",
       "        vertical-align: top;\n",
       "    }\n",
       "\n",
       "    .dataframe thead th {\n",
       "        text-align: right;\n",
       "    }\n",
       "</style>\n",
       "<table border=\"1\" class=\"dataframe\">\n",
       "  <thead>\n",
       "    <tr style=\"text-align: right;\">\n",
       "      <th></th>\n",
       "      <th>Store</th>\n",
       "      <th>Date</th>\n",
       "      <th>Temperature</th>\n",
       "      <th>Fuel_Price</th>\n",
       "      <th>MarkDown1</th>\n",
       "      <th>MarkDown2</th>\n",
       "      <th>MarkDown3</th>\n",
       "      <th>MarkDown4</th>\n",
       "      <th>MarkDown5</th>\n",
       "      <th>CPI</th>\n",
       "      <th>Unemployment</th>\n",
       "      <th>IsHoliday</th>\n",
       "    </tr>\n",
       "  </thead>\n",
       "  <tbody>\n",
       "    <tr>\n",
       "      <th>0</th>\n",
       "      <td>1</td>\n",
       "      <td>05/02/2010</td>\n",
       "      <td>42.31</td>\n",
       "      <td>2.572</td>\n",
       "      <td>NaN</td>\n",
       "      <td>NaN</td>\n",
       "      <td>NaN</td>\n",
       "      <td>NaN</td>\n",
       "      <td>NaN</td>\n",
       "      <td>211.096358</td>\n",
       "      <td>8.106</td>\n",
       "      <td>False</td>\n",
       "    </tr>\n",
       "    <tr>\n",
       "      <th>1</th>\n",
       "      <td>1</td>\n",
       "      <td>12/02/2010</td>\n",
       "      <td>38.51</td>\n",
       "      <td>2.548</td>\n",
       "      <td>NaN</td>\n",
       "      <td>NaN</td>\n",
       "      <td>NaN</td>\n",
       "      <td>NaN</td>\n",
       "      <td>NaN</td>\n",
       "      <td>211.242170</td>\n",
       "      <td>8.106</td>\n",
       "      <td>True</td>\n",
       "    </tr>\n",
       "    <tr>\n",
       "      <th>2</th>\n",
       "      <td>1</td>\n",
       "      <td>19/02/2010</td>\n",
       "      <td>39.93</td>\n",
       "      <td>2.514</td>\n",
       "      <td>NaN</td>\n",
       "      <td>NaN</td>\n",
       "      <td>NaN</td>\n",
       "      <td>NaN</td>\n",
       "      <td>NaN</td>\n",
       "      <td>211.289143</td>\n",
       "      <td>8.106</td>\n",
       "      <td>False</td>\n",
       "    </tr>\n",
       "    <tr>\n",
       "      <th>3</th>\n",
       "      <td>1</td>\n",
       "      <td>26/02/2010</td>\n",
       "      <td>46.63</td>\n",
       "      <td>2.561</td>\n",
       "      <td>NaN</td>\n",
       "      <td>NaN</td>\n",
       "      <td>NaN</td>\n",
       "      <td>NaN</td>\n",
       "      <td>NaN</td>\n",
       "      <td>211.319643</td>\n",
       "      <td>8.106</td>\n",
       "      <td>False</td>\n",
       "    </tr>\n",
       "    <tr>\n",
       "      <th>4</th>\n",
       "      <td>1</td>\n",
       "      <td>05/03/2010</td>\n",
       "      <td>46.50</td>\n",
       "      <td>2.625</td>\n",
       "      <td>NaN</td>\n",
       "      <td>NaN</td>\n",
       "      <td>NaN</td>\n",
       "      <td>NaN</td>\n",
       "      <td>NaN</td>\n",
       "      <td>211.350143</td>\n",
       "      <td>8.106</td>\n",
       "      <td>False</td>\n",
       "    </tr>\n",
       "  </tbody>\n",
       "</table>\n",
       "</div>"
      ],
      "text/plain": [
       "   Store        Date  Temperature  Fuel_Price  MarkDown1  MarkDown2  \\\n",
       "0      1  05/02/2010        42.31       2.572        NaN        NaN   \n",
       "1      1  12/02/2010        38.51       2.548        NaN        NaN   \n",
       "2      1  19/02/2010        39.93       2.514        NaN        NaN   \n",
       "3      1  26/02/2010        46.63       2.561        NaN        NaN   \n",
       "4      1  05/03/2010        46.50       2.625        NaN        NaN   \n",
       "\n",
       "   MarkDown3  MarkDown4  MarkDown5         CPI  Unemployment  IsHoliday  \n",
       "0        NaN        NaN        NaN  211.096358         8.106      False  \n",
       "1        NaN        NaN        NaN  211.242170         8.106       True  \n",
       "2        NaN        NaN        NaN  211.289143         8.106      False  \n",
       "3        NaN        NaN        NaN  211.319643         8.106      False  \n",
       "4        NaN        NaN        NaN  211.350143         8.106      False  "
      ]
     },
     "execution_count": 11,
     "metadata": {},
     "output_type": "execute_result"
    }
   ],
   "source": [
    "features.head()"
   ]
  },
  {
   "cell_type": "code",
   "execution_count": 12,
   "metadata": {},
   "outputs": [
    {
     "name": "stdout",
     "output_type": "stream",
     "text": [
      "<class 'pandas.core.frame.DataFrame'>\n",
      "RangeIndex: 8190 entries, 0 to 8189\n",
      "Data columns (total 12 columns):\n",
      "Store           8190 non-null int64\n",
      "Date            8190 non-null object\n",
      "Temperature     8190 non-null float64\n",
      "Fuel_Price      8190 non-null float64\n",
      "MarkDown1       4032 non-null float64\n",
      "MarkDown2       2921 non-null float64\n",
      "MarkDown3       3613 non-null float64\n",
      "MarkDown4       3464 non-null float64\n",
      "MarkDown5       4050 non-null float64\n",
      "CPI             7605 non-null float64\n",
      "Unemployment    7605 non-null float64\n",
      "IsHoliday       8190 non-null bool\n",
      "dtypes: bool(1), float64(9), int64(1), object(1)\n",
      "memory usage: 711.9+ KB\n"
     ]
    }
   ],
   "source": [
    "features.info()"
   ]
  },
  {
   "cell_type": "code",
   "execution_count": 13,
   "metadata": {},
   "outputs": [
    {
     "data": {
      "text/plain": [
       "<matplotlib.axes._subplots.AxesSubplot at 0x238cf300978>"
      ]
     },
     "execution_count": 13,
     "metadata": {},
     "output_type": "execute_result"
    },
    {
     "data": {
      "image/png": "[encoded data removed]",
      "text/plain": [
       "<matplotlib.figure.Figure at 0x238cea95f98>"
      ]
     },
     "metadata": {},
     "output_type": "display_data"
    }
   ],
   "source": [
    "# get a grasp on how the missing data is distrubuted accros one store\n",
    "# we already know that MarkDown data is only available after Nov 2011 and is not available for all stores all the time. \n",
    "# CPI and unemployment are missing sometimes, I can fill in NaN-s wit hthe last known value for that period\n",
    "sns.heatmap(features[features['Store'].eq(1)].isnull(),cbar=False,yticklabels=False)"
   ]
  },
  {
   "cell_type": "code",
   "execution_count": 14,
   "metadata": {},
   "outputs": [],
   "source": [
    "## I don't intend to use so instead of replacing na-s with 0 I better drop them all\n",
    "markdown_cols = features.filter(like='MarkDown').columns\n",
    "for column in markdown_cols:\n",
    "     features = features.drop(column,axis=1)"
   ]
  },
  {
   "cell_type": "code",
   "execution_count": 15,
   "metadata": {},
   "outputs": [
    {
     "data": {
      "text/plain": [
       "Store             0\n",
       "Date              0\n",
       "Temperature       0\n",
       "Fuel_Price        0\n",
       "CPI             585\n",
       "Unemployment    585\n",
       "IsHoliday         0\n",
       "dtype: int64"
      ]
     },
     "execution_count": 15,
     "metadata": {},
     "output_type": "execute_result"
    }
   ],
   "source": [
    "# Is now the data clean? Yes\n",
    "features.isna().sum()"
   ]
  },
  {
   "cell_type": "code",
   "execution_count": 16,
   "metadata": {},
   "outputs": [],
   "source": [
    "######## 1.3 Sales dataset ############### "
   ]
  },
  {
   "cell_type": "code",
   "execution_count": 17,
   "metadata": {},
   "outputs": [
    {
     "data": {
      "text/html": [
       "<div>\n",
       "<style scoped>\n",
       "    .dataframe tbody tr th:only-of-type {\n",
       "        vertical-align: middle;\n",
       "    }\n",
       "\n",
       "    .dataframe tbody tr th {\n",
       "        vertical-align: top;\n",
       "    }\n",
       "\n",
       "    .dataframe thead th {\n",
       "        text-align: right;\n",
       "    }\n",
       "</style>\n",
       "<table border=\"1\" class=\"dataframe\">\n",
       "  <thead>\n",
       "    <tr style=\"text-align: right;\">\n",
       "      <th></th>\n",
       "      <th>Store</th>\n",
       "      <th>Dept</th>\n",
       "      <th>Date</th>\n",
       "      <th>Weekly_Sales</th>\n",
       "      <th>IsHoliday</th>\n",
       "    </tr>\n",
       "  </thead>\n",
       "  <tbody>\n",
       "    <tr>\n",
       "      <th>0</th>\n",
       "      <td>1</td>\n",
       "      <td>1</td>\n",
       "      <td>05/02/2010</td>\n",
       "      <td>24924.50</td>\n",
       "      <td>False</td>\n",
       "    </tr>\n",
       "    <tr>\n",
       "      <th>1</th>\n",
       "      <td>1</td>\n",
       "      <td>1</td>\n",
       "      <td>12/02/2010</td>\n",
       "      <td>46039.49</td>\n",
       "      <td>True</td>\n",
       "    </tr>\n",
       "    <tr>\n",
       "      <th>2</th>\n",
       "      <td>1</td>\n",
       "      <td>1</td>\n",
       "      <td>19/02/2010</td>\n",
       "      <td>41595.55</td>\n",
       "      <td>False</td>\n",
       "    </tr>\n",
       "    <tr>\n",
       "      <th>3</th>\n",
       "      <td>1</td>\n",
       "      <td>1</td>\n",
       "      <td>26/02/2010</td>\n",
       "      <td>19403.54</td>\n",
       "      <td>False</td>\n",
       "    </tr>\n",
       "    <tr>\n",
       "      <th>4</th>\n",
       "      <td>1</td>\n",
       "      <td>1</td>\n",
       "      <td>05/03/2010</td>\n",
       "      <td>21827.90</td>\n",
       "      <td>False</td>\n",
       "    </tr>\n",
       "  </tbody>\n",
       "</table>\n",
       "</div>"
      ],
      "text/plain": [
       "   Store  Dept        Date  Weekly_Sales  IsHoliday\n",
       "0      1     1  05/02/2010      24924.50      False\n",
       "1      1     1  12/02/2010      46039.49       True\n",
       "2      1     1  19/02/2010      41595.55      False\n",
       "3      1     1  26/02/2010      19403.54      False\n",
       "4      1     1  05/03/2010      21827.90      False"
      ]
     },
     "execution_count": 17,
     "metadata": {},
     "output_type": "execute_result"
    }
   ],
   "source": [
    "sales.head()"
   ]
  },
  {
   "cell_type": "code",
   "execution_count": 18,
   "metadata": {},
   "outputs": [
    {
     "name": "stdout",
     "output_type": "stream",
     "text": [
      "<class 'pandas.core.frame.DataFrame'>\n",
      "RangeIndex: 421570 entries, 0 to 421569\n",
      "Data columns (total 5 columns):\n",
      "Store           421570 non-null int64\n",
      "Dept            421570 non-null int64\n",
      "Date            421570 non-null object\n",
      "Weekly_Sales    421570 non-null float64\n",
      "IsHoliday       421570 non-null bool\n",
      "dtypes: bool(1), float64(1), int64(2), object(1)\n",
      "memory usage: 13.3+ MB\n"
     ]
    }
   ],
   "source": [
    "sales.info()"
   ]
  },
  {
   "cell_type": "code",
   "execution_count": 19,
   "metadata": {},
   "outputs": [
    {
     "data": {
      "text/plain": [
       "0"
      ]
     },
     "execution_count": 19,
     "metadata": {},
     "output_type": "execute_result"
    }
   ],
   "source": [
    "# Is the data clean? Yes\n",
    "sales.isna().sum().sum()"
   ]
  },
  {
   "cell_type": "code",
   "execution_count": 20,
   "metadata": {},
   "outputs": [],
   "source": [
    "######### 2. Join features and sales datasets ########################\n"
   ]
  },
  {
   "cell_type": "code",
   "execution_count": 21,
   "metadata": {},
   "outputs": [
    {
     "data": {
      "text/html": [
       "<div>\n",
       "<style scoped>\n",
       "    .dataframe tbody tr th:only-of-type {\n",
       "        vertical-align: middle;\n",
       "    }\n",
       "\n",
       "    .dataframe tbody tr th {\n",
       "        vertical-align: top;\n",
       "    }\n",
       "\n",
       "    .dataframe thead th {\n",
       "        text-align: right;\n",
       "    }\n",
       "</style>\n",
       "<table border=\"1\" class=\"dataframe\">\n",
       "  <thead>\n",
       "    <tr style=\"text-align: right;\">\n",
       "      <th></th>\n",
       "      <th>Store</th>\n",
       "      <th>Dept</th>\n",
       "      <th>Weekly_Sales</th>\n",
       "      <th>IsHoliday</th>\n",
       "      <th>Temperature</th>\n",
       "      <th>Fuel_Price</th>\n",
       "      <th>CPI</th>\n",
       "      <th>Unemployment</th>\n",
       "      <th>Size</th>\n",
       "      <th>Year</th>\n",
       "    </tr>\n",
       "  </thead>\n",
       "  <tbody>\n",
       "    <tr>\n",
       "      <th>count</th>\n",
       "      <td>420212.000000</td>\n",
       "      <td>420212.000000</td>\n",
       "      <td>420212.000000</td>\n",
       "      <td>420212.000000</td>\n",
       "      <td>420212.000000</td>\n",
       "      <td>420212.000000</td>\n",
       "      <td>420212.000000</td>\n",
       "      <td>420212.000000</td>\n",
       "      <td>420212.000000</td>\n",
       "      <td>420212.000000</td>\n",
       "    </tr>\n",
       "    <tr>\n",
       "      <th>mean</th>\n",
       "      <td>22.195611</td>\n",
       "      <td>44.241309</td>\n",
       "      <td>16033.114591</td>\n",
       "      <td>0.070345</td>\n",
       "      <td>60.090599</td>\n",
       "      <td>3.360890</td>\n",
       "      <td>171.212496</td>\n",
       "      <td>7.960000</td>\n",
       "      <td>136749.732787</td>\n",
       "      <td>2010.968454</td>\n",
       "    </tr>\n",
       "    <tr>\n",
       "      <th>std</th>\n",
       "      <td>12.787236</td>\n",
       "      <td>30.508819</td>\n",
       "      <td>22729.492116</td>\n",
       "      <td>0.255729</td>\n",
       "      <td>18.447857</td>\n",
       "      <td>0.458519</td>\n",
       "      <td>39.162445</td>\n",
       "      <td>1.863879</td>\n",
       "      <td>60993.084568</td>\n",
       "      <td>0.796898</td>\n",
       "    </tr>\n",
       "    <tr>\n",
       "      <th>min</th>\n",
       "      <td>1.000000</td>\n",
       "      <td>1.000000</td>\n",
       "      <td>0.010000</td>\n",
       "      <td>0.000000</td>\n",
       "      <td>-2.060000</td>\n",
       "      <td>2.472000</td>\n",
       "      <td>126.064000</td>\n",
       "      <td>3.879000</td>\n",
       "      <td>34875.000000</td>\n",
       "      <td>2010.000000</td>\n",
       "    </tr>\n",
       "    <tr>\n",
       "      <th>25%</th>\n",
       "      <td>11.000000</td>\n",
       "      <td>18.000000</td>\n",
       "      <td>2120.130000</td>\n",
       "      <td>0.000000</td>\n",
       "      <td>46.680000</td>\n",
       "      <td>2.933000</td>\n",
       "      <td>132.022667</td>\n",
       "      <td>6.891000</td>\n",
       "      <td>93638.000000</td>\n",
       "      <td>2010.000000</td>\n",
       "    </tr>\n",
       "    <tr>\n",
       "      <th>50%</th>\n",
       "      <td>22.000000</td>\n",
       "      <td>37.000000</td>\n",
       "      <td>7661.700000</td>\n",
       "      <td>0.000000</td>\n",
       "      <td>62.090000</td>\n",
       "      <td>3.452000</td>\n",
       "      <td>182.350989</td>\n",
       "      <td>7.866000</td>\n",
       "      <td>140167.000000</td>\n",
       "      <td>2011.000000</td>\n",
       "    </tr>\n",
       "    <tr>\n",
       "      <th>75%</th>\n",
       "      <td>33.000000</td>\n",
       "      <td>74.000000</td>\n",
       "      <td>20271.265000</td>\n",
       "      <td>0.000000</td>\n",
       "      <td>74.280000</td>\n",
       "      <td>3.738000</td>\n",
       "      <td>212.445487</td>\n",
       "      <td>8.567000</td>\n",
       "      <td>202505.000000</td>\n",
       "      <td>2012.000000</td>\n",
       "    </tr>\n",
       "    <tr>\n",
       "      <th>max</th>\n",
       "      <td>45.000000</td>\n",
       "      <td>99.000000</td>\n",
       "      <td>693099.360000</td>\n",
       "      <td>1.000000</td>\n",
       "      <td>100.140000</td>\n",
       "      <td>4.468000</td>\n",
       "      <td>227.232807</td>\n",
       "      <td>14.313000</td>\n",
       "      <td>219622.000000</td>\n",
       "      <td>2012.000000</td>\n",
       "    </tr>\n",
       "  </tbody>\n",
       "</table>\n",
       "</div>"
      ],
      "text/plain": [
       "               Store           Dept   Weekly_Sales      IsHoliday  \\\n",
       "count  420212.000000  420212.000000  420212.000000  420212.000000   \n",
       "mean       22.195611      44.241309   16033.114591       0.070345   \n",
       "std        12.787236      30.508819   22729.492116       0.255729   \n",
       "min         1.000000       1.000000       0.010000       0.000000   \n",
       "25%        11.000000      18.000000    2120.130000       0.000000   \n",
       "50%        22.000000      37.000000    7661.700000       0.000000   \n",
       "75%        33.000000      74.000000   20271.265000       0.000000   \n",
       "max        45.000000      99.000000  693099.360000       1.000000   \n",
       "\n",
       "         Temperature     Fuel_Price            CPI   Unemployment  \\\n",
       "count  420212.000000  420212.000000  420212.000000  420212.000000   \n",
       "mean       60.090599       3.360890     171.212496       7.960000   \n",
       "std        18.447857       0.458519      39.162445       1.863879   \n",
       "min        -2.060000       2.472000     126.064000       3.879000   \n",
       "25%        46.680000       2.933000     132.022667       6.891000   \n",
       "50%        62.090000       3.452000     182.350989       7.866000   \n",
       "75%        74.280000       3.738000     212.445487       8.567000   \n",
       "max       100.140000       4.468000     227.232807      14.313000   \n",
       "\n",
       "                Size           Year  \n",
       "count  420212.000000  420212.000000  \n",
       "mean   136749.732787    2010.968454  \n",
       "std     60993.084568       0.796898  \n",
       "min     34875.000000    2010.000000  \n",
       "25%     93638.000000    2010.000000  \n",
       "50%    140167.000000    2011.000000  \n",
       "75%    202505.000000    2012.000000  \n",
       "max    219622.000000    2012.000000  "
      ]
     },
     "execution_count": 21,
     "metadata": {},
     "output_type": "execute_result"
    }
   ],
   "source": [
    "# merge left all tables, use only keys from left frame, similar to a SQL left outer join; preserve key order.\n",
    "    \n",
    "retail = pd.merge(sales, features, how = 'left', on = ['Store', 'Date', 'IsHoliday'])\n",
    "retail = pd.merge(retail, stores, how = 'left', on = ['Store'])\n",
    "\n",
    "# format date in datetime, we need it to extract Year and Year week later to split the data in train, test\n",
    "retail['Date'] = pd.to_datetime(retail['Date'])\n",
    "retail['Year'] = pd.DatetimeIndex(retail['Date']).year\n",
    "retail['Year-Week'] = retail['Date'].dt.strftime('%Y-%U')\n",
    "\n",
    "# I noticed there are Sales figures that are 0 or even negative, cleanup:\n",
    "retail = retail[retail['Weekly_Sales'].gt(0)]\n",
    "\n",
    "# On features Fill na gaps forward on CPI and Unemployment, Data seems sorted by date already\n",
    "# https://pandas.pydata.org/pandas-docs/stable/user_guide/missing_data.html\n",
    "retail['CPI'] = retail['CPI'].fillna(method='pad')\n",
    "retail['Unemployment'] = retail['Unemployment'].fillna(method='pad')\n",
    "\n",
    "# turn IsHoliday into an Integer, useful later for numeric computations\n",
    "retail['IsHoliday'] = retail['IsHoliday'].astype(int)\n",
    "\n",
    "# checkout the dataset we're going to use further\n",
    "retail.describe()"
   ]
  },
  {
   "cell_type": "code",
   "execution_count": 22,
   "metadata": {},
   "outputs": [
    {
     "data": {
      "text/plain": [
       "Store           0\n",
       "Dept            0\n",
       "Date            0\n",
       "Weekly_Sales    0\n",
       "IsHoliday       0\n",
       "Temperature     0\n",
       "Fuel_Price      0\n",
       "CPI             0\n",
       "Unemployment    0\n",
       "Type            0\n",
       "Size            0\n",
       "Year            0\n",
       "Year-Week       0\n",
       "dtype: int64"
      ]
     },
     "execution_count": 22,
     "metadata": {},
     "output_type": "execute_result"
    }
   ],
   "source": [
    "# make sure the dataset is clean\n",
    "retail.isna().sum(axis = 0)"
   ]
  },
  {
   "cell_type": "code",
   "execution_count": 23,
   "metadata": {},
   "outputs": [
    {
     "data": {
      "text/plain": [
       "<matplotlib.axes._subplots.AxesSubplot at 0x238cc69e940>"
      ]
     },
     "execution_count": 23,
     "metadata": {},
     "output_type": "execute_result"
    },
    {
     "data": {
      "image/png": "[encoded data removed]",
      "text/plain": [
       "<matplotlib.figure.Figure at 0x238cf38a9b0>"
      ]
     },
     "metadata": {},
     "output_type": "display_data"
    }
   ],
   "source": [
    "# Data analysis: visualisations, corr matrix for the numeric factors\n",
    "col_features = ['Weekly_Sales','Temperature','Fuel_Price','CPI','Unemployment','Size', 'Dept', 'IsHoliday']\n",
    "a4_dims = (11.7, 8.27)\n",
    "fig, ax = plt.subplots(figsize=a4_dims)\n",
    "sns.heatmap(retail[col_features].corr(),annot=True)"
   ]
  },
  {
   "cell_type": "code",
   "execution_count": 24,
   "metadata": {},
   "outputs": [
    {
     "data": {
      "text/plain": [
       "<matplotlib.axes._subplots.AxesSubplot at 0x238cf38e7f0>"
      ]
     },
     "execution_count": 24,
     "metadata": {},
     "output_type": "execute_result"
    },
    {
     "data": {
      "image/png": "[encoded data removed]",
      "text/plain": [
       "<matplotlib.figure.Figure at 0x238cf396438>"
      ]
     },
     "metadata": {},
     "output_type": "display_data"
    }
   ],
   "source": [
    "# how is the corr matrix when we use less data, just for one store?\n",
    "sns.heatmap(retail[col_features][retail['Store'].eq(1)].corr(),annot=True)"
   ]
  },
  {
   "cell_type": "code",
   "execution_count": 25,
   "metadata": {},
   "outputs": [
    {
     "data": {
      "text/plain": [
       "<matplotlib.axes._subplots.AxesSubplot at 0x238d0df8a58>"
      ]
     },
     "execution_count": 25,
     "metadata": {},
     "output_type": "execute_result"
    },
    {
     "data": {
      "image/png": "[encoded data removed]",
      "text/plain": [
       "<matplotlib.figure.Figure at 0x238cf4e5ac8>"
      ]
     },
     "metadata": {},
     "output_type": "display_data"
    }
   ],
   "source": [
    "# how is the corr matrix when we use less data, just for one store dept?\n",
    "sns.heatmap(retail[col_features][retail['Store'].eq(1) & retail['Dept'].eq(5)].corr(),annot=True)"
   ]
  },
  {
   "cell_type": "code",
   "execution_count": 26,
   "metadata": {},
   "outputs": [
    {
     "data": {
      "text/plain": [
       "<matplotlib.axes._subplots.AxesSubplot at 0x238cf790588>"
      ]
     },
     "execution_count": 26,
     "metadata": {},
     "output_type": "execute_result"
    },
    {
     "data": {
      "image/png": "[encoded data removed]",
      "text/plain": [
       "<matplotlib.figure.Figure at 0x238cf7c0630>"
      ]
     },
     "metadata": {},
     "output_type": "display_data"
    }
   ],
   "source": [
    "fig, ax = plt.subplots()\n",
    "fig.set_size_inches(11.7, 8.27)\n",
    "sns.boxplot(x='Dept',y='Weekly_Sales',data=retail)\n",
    "# fig.savefig('retail.png')"
   ]
  },
  {
   "cell_type": "code",
   "execution_count": 27,
   "metadata": {},
   "outputs": [
    {
     "data": {
      "image/png": "[encoded data removed]",
      "text/plain": [
       "<matplotlib.figure.Figure at 0x238d2cf80f0>"
      ]
     },
     "metadata": {},
     "output_type": "display_data"
    },
    {
     "data": {
      "image/png": "[encoded data removed]",
      "text/plain": [
       "<matplotlib.figure.Figure at 0x238d2cc5c18>"
      ]
     },
     "metadata": {},
     "output_type": "display_data"
    },
    {
     "data": {
      "image/png": "[encoded data removed]",
      "text/plain": [
       "<matplotlib.figure.Figure at 0x238d74acf98>"
      ]
     },
     "metadata": {},
     "output_type": "display_data"
    }
   ],
   "source": [
    "# See if the Distribution of Sales by dept differs for Store Type:\n",
    "for store in retail['Type'].unique():\n",
    "    fig = plt.figure()\n",
    "    ax = plt.axes()\n",
    "    fig.set_size_inches(6, 4)\n",
    "    sns.boxplot(x='Dept',y='Weekly_Sales',data=retail[retail['Type']==store])\n",
    "    ax.set_title('Size'+str(store))\n"
   ]
  },
  {
   "cell_type": "code",
   "execution_count": 28,
   "metadata": {},
   "outputs": [
    {
     "data": {
      "image/png": "[encoded data removed]",
      "text/plain": [
       "<matplotlib.figure.Figure at 0x238d2ce8ac8>"
      ]
     },
     "metadata": {},
     "output_type": "display_data"
    }
   ],
   "source": [
    "plt.hist(retail['Weekly_Sales'].values,  bins=50)\n",
    "plt.ylabel('Weekly_Sales');"
   ]
  },
  {
   "cell_type": "code",
   "execution_count": 29,
   "metadata": {},
   "outputs": [],
   "source": [
    "############# Numerical Predictions ############"
   ]
  },
  {
   "cell_type": "code",
   "execution_count": 30,
   "metadata": {},
   "outputs": [],
   "source": [
    "from sklearn.model_selection import train_test_split\n",
    "from sklearn.linear_model import LinearRegression\n",
    "\n",
    "col_X = ['Temperature','Fuel_Price','CPI','Unemployment','Size', 'Dept', 'IsHoliday']\n",
    "col_y = ['Weekly_Sales']\n",
    "\n",
    "X_train = retail[col_X][retail['Year'].isin([2010, 2011])]\n",
    "X_test = retail[col_X][retail['Year'].isin([2012])]\n",
    "y_train = retail[col_y][retail['Year'].isin([2010, 2011])]\n",
    "y_test = retail[col_y][retail['Year'].isin([2012])]\n",
    "        "
   ]
  },
  {
   "cell_type": "code",
   "execution_count": 31,
   "metadata": {},
   "outputs": [],
   "source": [
    "# train Linear regression\n",
    "lin_reg = LinearRegression()\n",
    "lin_reg.fit(X_train, y_train)\n",
    "\n",
    "# generate predictions\n",
    "y_test_pred = lin_reg.predict(X_test)\n",
    "y_test_pred = pd.DataFrame(lin_reg.predict(X_test), index=X_test.index)"
   ]
  },
  {
   "cell_type": "code",
   "execution_count": 32,
   "metadata": {},
   "outputs": [
    {
     "name": "stdout",
     "output_type": "stream",
     "text": [
      "446345379.3313437\n"
     ]
    }
   ],
   "source": [
    "# https://scikit-learn.org/stable/modules/generated/sklearn.metrics.mean_squared_error.html\n",
    "#A non-negative floating point value (the best value is 0.0), \n",
    "from sklearn.metrics import mean_squared_error\n",
    "print(mean_squared_error(y_test, y_test_pred))"
   ]
  },
  {
   "cell_type": "code",
   "execution_count": 33,
   "metadata": {},
   "outputs": [
    {
     "name": "stdout",
     "output_type": "stream",
     "text": [
      "0.08970068149011379\n"
     ]
    }
   ],
   "source": [
    "# https://scikit-learn.org/stable/modules/generated/sklearn.metrics.explained_variance_score.html\n",
    "# Best possible score is 1.0, lower values are worse.\n",
    "from sklearn.metrics import explained_variance_score\n",
    "print(explained_variance_score(y_test, y_test_pred))"
   ]
  },
  {
   "cell_type": "code",
   "execution_count": 34,
   "metadata": {},
   "outputs": [
    {
     "name": "stdout",
     "output_type": "stream",
     "text": [
      "Coefficients: \n",
      " [[ 1.85555070e+01 -1.67570072e+02 -1.66100306e+01 -2.07397147e+02\n",
      "   9.15420564e-02  1.07979153e+02  1.36690751e+03]]\n"
     ]
    }
   ],
   "source": [
    "print('Coefficients: \\n', lin_reg.coef_)"
   ]
  },
  {
   "cell_type": "code",
   "execution_count": 35,
   "metadata": {},
   "outputs": [],
   "source": [
    "# Linear regression for one shop one Dept"
   ]
  },
  {
   "cell_type": "code",
   "execution_count": 36,
   "metadata": {},
   "outputs": [],
   "source": [
    "X_train_dept = retail[col_X][retail['Year'].isin([2010, 2011]) & retail['Store'].eq(1) & retail['Dept'].eq(1)]\n",
    "X_test_dept = retail[col_X][retail['Year'].isin([2012]) & retail['Store'].eq(1) & retail['Dept'].eq(1)]\n",
    "y_train_dept = retail[col_y][retail['Year'].isin([2010, 2011]) & retail['Store'].eq(1) & retail['Dept'].eq(1)]\n",
    "y_test_dept = retail[col_y][retail['Year'].isin([2012]) & retail['Store'].eq(1) & retail['Dept'].eq(1)]\n",
    "            "
   ]
  },
  {
   "cell_type": "code",
   "execution_count": 37,
   "metadata": {},
   "outputs": [
    {
     "name": "stdout",
     "output_type": "stream",
     "text": [
      "142175266.6341782\n"
     ]
    }
   ],
   "source": [
    "# train Linear regression\n",
    "lin_reg_dept = LinearRegression()\n",
    "lin_reg_dept.fit(X_train_dept, y_train_dept)\n",
    "\n",
    "# generate predictions\n",
    "y_test_pred_dept = lin_reg_dept.predict(X_test_dept)\n",
    "print(mean_squared_error(y_test_dept, y_test_pred_dept))"
   ]
  },
  {
   "cell_type": "code",
   "execution_count": 38,
   "metadata": {},
   "outputs": [
    {
     "name": "stdout",
     "output_type": "stream",
     "text": [
      "0.0936369770019686\n"
     ]
    }
   ],
   "source": [
    "# https://scikit-learn.org/stable/modules/generated/sklearn.metrics.explained_variance_score.html\n",
    "# Best possible score is 1.0, lower values are worse.\n",
    "from sklearn.metrics import explained_variance_score\n",
    "print(explained_variance_score(y_test_dept, y_test_pred_dept))"
   ]
  },
  {
   "cell_type": "code",
   "execution_count": 39,
   "metadata": {},
   "outputs": [
    {
     "data": {
      "image/png": "[encoded data removed]",
      "text/plain": [
       "<matplotlib.figure.Figure at 0x238d2d04908>"
      ]
     },
     "metadata": {},
     "output_type": "display_data"
    }
   ],
   "source": [
    "# Plot predictions using Linear Regression\n",
    "plt.figure(figsize=(12,6))\n",
    "plt.scatter(y_test_dept, y_test_pred_dept, c = \"lightgreen\", marker = \"o\", label = \"Validation data\")\n",
    "plt.title(\"Linear regression for Store 1 Dept 1\")\n",
    "plt.xlabel(\"Predicted Sales\")\n",
    "plt.ylabel(\"Real Sales\")\n",
    "plt.show()"
   ]
  },
  {
   "cell_type": "code",
   "execution_count": 40,
   "metadata": {},
   "outputs": [
    {
     "data": {
      "text/html": [
       "<div>\n",
       "<style scoped>\n",
       "    .dataframe tbody tr th:only-of-type {\n",
       "        vertical-align: middle;\n",
       "    }\n",
       "\n",
       "    .dataframe tbody tr th {\n",
       "        vertical-align: top;\n",
       "    }\n",
       "\n",
       "    .dataframe thead th {\n",
       "        text-align: right;\n",
       "    }\n",
       "</style>\n",
       "<table border=\"1\" class=\"dataframe\">\n",
       "  <thead>\n",
       "    <tr style=\"text-align: right;\">\n",
       "      <th></th>\n",
       "      <th>Weekly_Sales</th>\n",
       "      <th>0</th>\n",
       "    </tr>\n",
       "  </thead>\n",
       "  <tbody>\n",
       "    <tr>\n",
       "      <th>100</th>\n",
       "      <td>16567.69</td>\n",
       "      <td>35432.289625</td>\n",
       "    </tr>\n",
       "    <tr>\n",
       "      <th>101</th>\n",
       "      <td>16894.40</td>\n",
       "      <td>35381.286477</td>\n",
       "    </tr>\n",
       "    <tr>\n",
       "      <th>102</th>\n",
       "      <td>18365.10</td>\n",
       "      <td>33623.643392</td>\n",
       "    </tr>\n",
       "    <tr>\n",
       "      <th>103</th>\n",
       "      <td>18378.16</td>\n",
       "      <td>33572.002763</td>\n",
       "    </tr>\n",
       "    <tr>\n",
       "      <th>104</th>\n",
       "      <td>23510.49</td>\n",
       "      <td>32673.816240</td>\n",
       "    </tr>\n",
       "  </tbody>\n",
       "</table>\n",
       "</div>"
      ],
      "text/plain": [
       "     Weekly_Sales             0\n",
       "100      16567.69  35432.289625\n",
       "101      16894.40  35381.286477\n",
       "102      18365.10  33623.643392\n",
       "103      18378.16  33572.002763\n",
       "104      23510.49  32673.816240"
      ]
     },
     "execution_count": 40,
     "metadata": {},
     "output_type": "execute_result"
    }
   ],
   "source": [
    "y_test_dept.join(pd.DataFrame(y_test_pred_dept,index=y_test_dept.index)).head()"
   ]
  },
  {
   "cell_type": "code",
   "execution_count": 41,
   "metadata": {},
   "outputs": [
    {
     "name": "stdout",
     "output_type": "stream",
     "text": [
      "702471750.333633\n"
     ]
    }
   ],
   "source": [
    "# predict weekly sales for the next 8 weeks.\n",
    "# You are asked to provide store-level sales forecasts as well as the network forecast.\n",
    "X_train_s = X_train_dept[8:]\n",
    "X_test_s = X_test_dept[8:]\n",
    "y_train_s = y_train_dept.shift(8)[8:]\n",
    "y_test_s =  y_test_dept.shift(8)[8:]\n",
    "\n",
    "# train Linear regression\n",
    "lin_reg_s = LinearRegression()\n",
    "lin_reg_s.fit(X_train_s, y_train_s)\n",
    "\n",
    "# generate predictions\n",
    "y_test_pred_s = lin_reg_s.predict(X_test_s)\n",
    "print(mean_squared_error(y_test_s, y_test_pred_s))\n"
   ]
  },
  {
   "cell_type": "code",
   "execution_count": 43,
   "metadata": {},
   "outputs": [],
   "source": [
    "## loop through Stores\n",
    "## loop through Dept\n",
    "## Predict and sum the last 8 weeks per store \n",
    "## Sum all predictions\n",
    "\n",
    "columns = ['Store','Dept', 'W1','W2','W3','W4','W5','W6','W7','W8','All']\n",
    "results_df = pd.DataFrame(columns=columns)\n",
    "\n",
    "i=0\n",
    "#for store in range(1,3):\n",
    "for store in retail['Store'].unique():\n",
    "    dept_list=retail['Dept'][retail['Store'].eq(store)].unique()\n",
    "    for dept in dept_list:\n",
    "     \n",
    "        i=i+1\n",
    "        X_train_dept = retail[col_X][retail['Year'].isin([2010, 2011]) & retail['Store'].eq(store) & retail['Dept'].eq(dept)]\n",
    "        X_test_dept = retail[col_X][retail['Year'].isin([2012]) & retail['Store'].eq(store) & retail['Dept'].eq(dept)]\n",
    "        y_train_dept = retail[col_y][retail['Year'].isin([2010, 2011]) & retail['Store'].eq(store) & retail['Dept'].eq(dept)]\n",
    "        y_test_dept = retail[col_y][retail['Year'].isin([2012]) & retail['Store'].eq(store) & retail['Dept'].eq(dept)]\n",
    "\n",
    "        if X_test_dept.count()[1]>10 and X_train_dept.count()[1]>10:\n",
    "        \n",
    "            # predict weekly sales for the next 8 weeks.\n",
    "            # You are asked to provide store-level sales forecasts as well as the network forecast.\n",
    "            X_train_s = X_train_dept[8:]\n",
    "            X_test_s = X_test_dept[8:]\n",
    "            y_train_s = y_train_dept.shift(8)[8:]\n",
    "            y_test_s =  y_test_dept.shift(8)[8:]\n",
    "\n",
    "            # train Linear regression\n",
    "            lin_reg_s = LinearRegression()\n",
    "            lin_reg_s.fit(X_train_s, y_train_s)\n",
    "\n",
    "            # generate predictions\n",
    "            y_test_pred_s = lin_reg_s.predict(X_test_s)\n",
    "\n",
    "            if len(y_test_pred_s)>10:\n",
    "                store_forecast = y_test_pred_s[-9:-1].sum()\n",
    "                results_df = results_df.append({\"Store\": store,'Dept':dept,\n",
    "                                                'W1':y_test_pred_s[-8],\n",
    "                                                'W2':y_test_pred_s[-7],\n",
    "                                                'W3':y_test_pred_s[-6],\n",
    "                                                'W4':y_test_pred_s[-5],\n",
    "                                                'W5':y_test_pred_s[-4],\n",
    "                                                'W6':y_test_pred_s[-3],\n",
    "                                                'W7':y_test_pred_s[-3],\n",
    "                                                'W8':y_test_pred_s[-1],\n",
    "                                                'All':store_forecast\n",
    "                                               }\n",
    "                                               , ignore_index=True)\n",
    "\n"
   ]
  },
  {
   "cell_type": "code",
   "execution_count": 44,
   "metadata": {},
   "outputs": [
    {
     "name": "stdout",
     "output_type": "stream",
     "text": [
      "Store forecast weekly returns for the next 8 weeks:\n"
     ]
    },
    {
     "data": {
      "text/html": [
       "<div>\n",
       "<style scoped>\n",
       "    .dataframe tbody tr th:only-of-type {\n",
       "        vertical-align: middle;\n",
       "    }\n",
       "\n",
       "    .dataframe tbody tr th {\n",
       "        vertical-align: top;\n",
       "    }\n",
       "\n",
       "    .dataframe thead th {\n",
       "        text-align: right;\n",
       "    }\n",
       "</style>\n",
       "<table border=\"1\" class=\"dataframe\">\n",
       "  <thead>\n",
       "    <tr style=\"text-align: right;\">\n",
       "      <th></th>\n",
       "      <th>Dept</th>\n",
       "      <th>W1</th>\n",
       "      <th>W2</th>\n",
       "      <th>W3</th>\n",
       "      <th>W4</th>\n",
       "      <th>W5</th>\n",
       "      <th>W6</th>\n",
       "      <th>W7</th>\n",
       "      <th>W8</th>\n",
       "      <th>All</th>\n",
       "    </tr>\n",
       "    <tr>\n",
       "      <th>Store</th>\n",
       "      <th></th>\n",
       "      <th></th>\n",
       "      <th></th>\n",
       "      <th></th>\n",
       "      <th></th>\n",
       "      <th></th>\n",
       "      <th></th>\n",
       "      <th></th>\n",
       "      <th></th>\n",
       "      <th></th>\n",
       "    </tr>\n",
       "  </thead>\n",
       "  <tbody>\n",
       "    <tr>\n",
       "      <th>1.0</th>\n",
       "      <td>3236.0</td>\n",
       "      <td>1720045.4995485072</td>\n",
       "      <td>1702062.3955126437</td>\n",
       "      <td>1708184.5570687642</td>\n",
       "      <td>1697497.954849045</td>\n",
       "      <td>1778965.3583689872</td>\n",
       "      <td>1784627.7533489142</td>\n",
       "      <td>1784627.7533489142</td>\n",
       "      <td>1770543.4125938618</td>\n",
       "      <td>13859460.253959455</td>\n",
       "    </tr>\n",
       "    <tr>\n",
       "      <th>2.0</th>\n",
       "      <td>3236.0</td>\n",
       "      <td>1809316.417506414</td>\n",
       "      <td>1790277.109546821</td>\n",
       "      <td>1792729.0269663916</td>\n",
       "      <td>1745540.7075315062</td>\n",
       "      <td>1871015.3084202753</td>\n",
       "      <td>1884371.8453342183</td>\n",
       "      <td>1884371.8453342183</td>\n",
       "      <td>1838502.7678441037</td>\n",
       "      <td>14526564.381501142</td>\n",
       "    </tr>\n",
       "    <tr>\n",
       "      <th>3.0</th>\n",
       "      <td>2640.0</td>\n",
       "      <td>404685.589272328</td>\n",
       "      <td>400594.8528499089</td>\n",
       "      <td>406464.1606641031</td>\n",
       "      <td>395161.4944022105</td>\n",
       "      <td>411132.60608638165</td>\n",
       "      <td>412151.13127097517</td>\n",
       "      <td>412151.13127097517</td>\n",
       "      <td>399887.7785751886</td>\n",
       "      <td>3223190.053635055</td>\n",
       "    </tr>\n",
       "    <tr>\n",
       "      <th>4.0</th>\n",
       "      <td>3236.0</td>\n",
       "      <td>2129881.0012512207</td>\n",
       "      <td>2163642.233531046</td>\n",
       "      <td>2161335.170884229</td>\n",
       "      <td>2144153.4491442204</td>\n",
       "      <td>2189774.029374637</td>\n",
       "      <td>2215243.269227154</td>\n",
       "      <td>2215243.269227154</td>\n",
       "      <td>2177992.7273188056</td>\n",
       "      <td>17308115.59901356</td>\n",
       "    </tr>\n",
       "    <tr>\n",
       "      <th>5.0</th>\n",
       "      <td>2566.0</td>\n",
       "      <td>316699.76503526815</td>\n",
       "      <td>317625.86597606336</td>\n",
       "      <td>320942.27432087436</td>\n",
       "      <td>314896.0136208266</td>\n",
       "      <td>322876.80036983814</td>\n",
       "      <td>325632.90188456804</td>\n",
       "      <td>325632.90188456804</td>\n",
       "      <td>320390.1031731618</td>\n",
       "      <td>2554578.028698635</td>\n",
       "    </tr>\n",
       "    <tr>\n",
       "      <th>6.0</th>\n",
       "      <td>3236.0</td>\n",
       "      <td>1831445.6161954557</td>\n",
       "      <td>1760066.5566192332</td>\n",
       "      <td>1738885.0980538118</td>\n",
       "      <td>1739688.6080798353</td>\n",
       "      <td>1881637.8598359325</td>\n",
       "      <td>1858795.6429200494</td>\n",
       "      <td>1858795.6429200494</td>\n",
       "      <td>1862575.4809113343</td>\n",
       "      <td>14456781.282764364</td>\n",
       "    </tr>\n",
       "    <tr>\n",
       "      <th>7.0</th>\n",
       "      <td>3126.0</td>\n",
       "      <td>559792.3921573746</td>\n",
       "      <td>585985.3737905913</td>\n",
       "      <td>594188.7431349964</td>\n",
       "      <td>599920.5111835853</td>\n",
       "      <td>587192.2537286993</td>\n",
       "      <td>598570.5534570753</td>\n",
       "      <td>598570.5534570753</td>\n",
       "      <td>598780.4197100902</td>\n",
       "      <td>4699976.567292866</td>\n",
       "    </tr>\n",
       "    <tr>\n",
       "      <th>8.0</th>\n",
       "      <td>3092.0</td>\n",
       "      <td>1002213.0972574197</td>\n",
       "      <td>993986.9177753734</td>\n",
       "      <td>991570.663557103</td>\n",
       "      <td>977155.9549207583</td>\n",
       "      <td>1040958.2494621158</td>\n",
       "      <td>1045339.3611838911</td>\n",
       "      <td>1045339.3611838911</td>\n",
       "      <td>1021129.2076556609</td>\n",
       "      <td>8062807.344568087</td>\n",
       "    </tr>\n",
       "    <tr>\n",
       "      <th>9.0</th>\n",
       "      <td>2532.0</td>\n",
       "      <td>599072.044811412</td>\n",
       "      <td>591660.3579371865</td>\n",
       "      <td>592853.370173003</td>\n",
       "      <td>584387.7993161704</td>\n",
       "      <td>613418.8699589721</td>\n",
       "      <td>615476.8208874714</td>\n",
       "      <td>615476.8208874714</td>\n",
       "      <td>606283.6880705854</td>\n",
       "      <td>4792851.433527724</td>\n",
       "    </tr>\n",
       "    <tr>\n",
       "      <th>10.0</th>\n",
       "      <td>3187.0</td>\n",
       "      <td>1609260.7566523864</td>\n",
       "      <td>1601675.2217940362</td>\n",
       "      <td>1599371.5646759367</td>\n",
       "      <td>1585116.4487958986</td>\n",
       "      <td>1542551.5988217404</td>\n",
       "      <td>1594677.715127034</td>\n",
       "      <td>1594677.715127034</td>\n",
       "      <td>1612099.913936817</td>\n",
       "      <td>12693437.958976146</td>\n",
       "    </tr>\n",
       "    <tr>\n",
       "      <th>11.0</th>\n",
       "      <td>3188.0</td>\n",
       "      <td>1371511.32180992</td>\n",
       "      <td>1357753.315626975</td>\n",
       "      <td>1373653.0931825787</td>\n",
       "      <td>1350969.898153991</td>\n",
       "      <td>1394349.0054770997</td>\n",
       "      <td>1399994.23257888</td>\n",
       "      <td>1399994.23257888</td>\n",
       "      <td>1374380.3149589717</td>\n",
       "      <td>10966567.49509638</td>\n",
       "    </tr>\n",
       "    <tr>\n",
       "      <th>12.0</th>\n",
       "      <td>2956.0</td>\n",
       "      <td>784145.3872447046</td>\n",
       "      <td>815364.9592772825</td>\n",
       "      <td>817543.3041696374</td>\n",
       "      <td>834401.4779603935</td>\n",
       "      <td>773938.8147292089</td>\n",
       "      <td>732670.9508120416</td>\n",
       "      <td>732670.9508120416</td>\n",
       "      <td>754318.6870663507</td>\n",
       "      <td>6307923.205206863</td>\n",
       "    </tr>\n",
       "    <tr>\n",
       "      <th>13.0</th>\n",
       "      <td>3331.0</td>\n",
       "      <td>2055355.8193798221</td>\n",
       "      <td>2014670.7612930639</td>\n",
       "      <td>1980206.2182565501</td>\n",
       "      <td>1979989.6580650886</td>\n",
       "      <td>1955593.5271655405</td>\n",
       "      <td>1958604.4460807357</td>\n",
       "      <td>1958604.4460807357</td>\n",
       "      <td>1982619.7537176518</td>\n",
       "      <td>16004733.93107748</td>\n",
       "    </tr>\n",
       "    <tr>\n",
       "      <th>14.0</th>\n",
       "      <td>3156.0</td>\n",
       "      <td>1727409.582388475</td>\n",
       "      <td>1675434.3034282236</td>\n",
       "      <td>1645006.4244483102</td>\n",
       "      <td>1648770.3758729873</td>\n",
       "      <td>1659072.1980598008</td>\n",
       "      <td>1635400.2055548371</td>\n",
       "      <td>1635400.2055548371</td>\n",
       "      <td>1670447.7996095056</td>\n",
       "      <td>13349870.102118723</td>\n",
       "    </tr>\n",
       "    <tr>\n",
       "      <th>15.0</th>\n",
       "      <td>3102.0</td>\n",
       "      <td>346555.07219102996</td>\n",
       "      <td>314731.7460689859</td>\n",
       "      <td>281148.4959960996</td>\n",
       "      <td>292228.6338904847</td>\n",
       "      <td>411570.1740312581</td>\n",
       "      <td>397566.95252023207</td>\n",
       "      <td>397566.95252023207</td>\n",
       "      <td>431688.92917087546</td>\n",
       "      <td>2785926.1580554084</td>\n",
       "    </tr>\n",
       "    <tr>\n",
       "      <th>16.0</th>\n",
       "      <td>2994.0</td>\n",
       "      <td>578696.3411976632</td>\n",
       "      <td>586863.3415670388</td>\n",
       "      <td>585998.9832413374</td>\n",
       "      <td>588834.3089730857</td>\n",
       "      <td>567340.0185428743</td>\n",
       "      <td>572278.5275912889</td>\n",
       "      <td>572278.5275912889</td>\n",
       "      <td>579865.6834899872</td>\n",
       "      <td>4648283.09430649</td>\n",
       "    </tr>\n",
       "    <tr>\n",
       "      <th>17.0</th>\n",
       "      <td>3049.0</td>\n",
       "      <td>862496.3188757494</td>\n",
       "      <td>838128.0405719917</td>\n",
       "      <td>820204.9042639884</td>\n",
       "      <td>821684.1756524981</td>\n",
       "      <td>756026.5985626287</td>\n",
       "      <td>753668.4735760023</td>\n",
       "      <td>753668.4735760023</td>\n",
       "      <td>765127.2004410239</td>\n",
       "      <td>6497651.061732752</td>\n",
       "    </tr>\n",
       "    <tr>\n",
       "      <th>18.0</th>\n",
       "      <td>3006.0</td>\n",
       "      <td>930255.9978882129</td>\n",
       "      <td>904175.5575500325</td>\n",
       "      <td>899905.2669601475</td>\n",
       "      <td>901096.4419213667</td>\n",
       "      <td>884034.1042335277</td>\n",
       "      <td>885722.5296798712</td>\n",
       "      <td>885722.5296798712</td>\n",
       "      <td>894537.162478742</td>\n",
       "      <td>7206509.424623491</td>\n",
       "    </tr>\n",
       "    <tr>\n",
       "      <th>19.0</th>\n",
       "      <td>3219.0</td>\n",
       "      <td>1099011.5779728745</td>\n",
       "      <td>1078328.9208325306</td>\n",
       "      <td>1035186.5076714432</td>\n",
       "      <td>1055322.8037987007</td>\n",
       "      <td>1208508.6602313062</td>\n",
       "      <td>1197545.5624411479</td>\n",
       "      <td>1197545.5624411479</td>\n",
       "      <td>1239828.2146263272</td>\n",
       "      <td>8982864.459479831</td>\n",
       "    </tr>\n",
       "    <tr>\n",
       "      <th>20.0</th>\n",
       "      <td>3171.0</td>\n",
       "      <td>1878726.704910976</td>\n",
       "      <td>1826001.8047634747</td>\n",
       "      <td>1832074.6269416553</td>\n",
       "      <td>1831664.7343840245</td>\n",
       "      <td>1815448.999142602</td>\n",
       "      <td>1844676.256324769</td>\n",
       "      <td>1844676.256324769</td>\n",
       "      <td>1808931.6081508887</td>\n",
       "      <td>14662449.965233287</td>\n",
       "    </tr>\n",
       "    <tr>\n",
       "      <th>21.0</th>\n",
       "      <td>2956.0</td>\n",
       "      <td>808779.0433194428</td>\n",
       "      <td>792833.4589600986</td>\n",
       "      <td>791488.342090905</td>\n",
       "      <td>770276.059723268</td>\n",
       "      <td>843652.7312795563</td>\n",
       "      <td>844114.8560239446</td>\n",
       "      <td>844114.8560239446</td>\n",
       "      <td>823623.8107249512</td>\n",
       "      <td>6469568.2630063025</td>\n",
       "    </tr>\n",
       "    <tr>\n",
       "      <th>22.0</th>\n",
       "      <td>2907.0</td>\n",
       "      <td>1021143.9684348272</td>\n",
       "      <td>999847.1079052226</td>\n",
       "      <td>1000429.2511975849</td>\n",
       "      <td>1005579.6590261767</td>\n",
       "      <td>994367.2877875809</td>\n",
       "      <td>1005222.050580892</td>\n",
       "      <td>1005222.050580892</td>\n",
       "      <td>1005790.8235796122</td>\n",
       "      <td>8028365.087000385</td>\n",
       "    </tr>\n",
       "    <tr>\n",
       "      <th>23.0</th>\n",
       "      <td>3147.0</td>\n",
       "      <td>1388616.9554987622</td>\n",
       "      <td>1306194.694926584</td>\n",
       "      <td>1278788.408174191</td>\n",
       "      <td>1278402.4815403705</td>\n",
       "      <td>1274593.2248909532</td>\n",
       "      <td>1263600.6299221849</td>\n",
       "      <td>1263600.6299221849</td>\n",
       "      <td>1314309.758062167</td>\n",
       "      <td>10426241.071932063</td>\n",
       "    </tr>\n",
       "    <tr>\n",
       "      <th>24.0</th>\n",
       "      <td>3238.0</td>\n",
       "      <td>1113879.7792825985</td>\n",
       "      <td>1140014.7942133686</td>\n",
       "      <td>1126697.2479747771</td>\n",
       "      <td>1144579.379438045</td>\n",
       "      <td>1282856.4144380514</td>\n",
       "      <td>1293508.1800232264</td>\n",
       "      <td>1293508.1800232264</td>\n",
       "      <td>1300033.2378393393</td>\n",
       "      <td>9526316.684188113</td>\n",
       "    </tr>\n",
       "    <tr>\n",
       "      <th>25.0</th>\n",
       "      <td>2970.0</td>\n",
       "      <td>547172.1718871569</td>\n",
       "      <td>506124.3176788393</td>\n",
       "      <td>497083.8776223071</td>\n",
       "      <td>494514.6291101257</td>\n",
       "      <td>487563.5698821773</td>\n",
       "      <td>480639.49223648943</td>\n",
       "      <td>480639.49223648943</td>\n",
       "      <td>487777.6258936467</td>\n",
       "      <td>4013793.3665003045</td>\n",
       "    </tr>\n",
       "    <tr>\n",
       "      <th>26.0</th>\n",
       "      <td>3141.0</td>\n",
       "      <td>1046509.5443726892</td>\n",
       "      <td>1010999.7838405338</td>\n",
       "      <td>985579.7446422753</td>\n",
       "      <td>987283.6870782551</td>\n",
       "      <td>1081759.3194113555</td>\n",
       "      <td>1062657.9589837636</td>\n",
       "      <td>1062657.9589837636</td>\n",
       "      <td>1093596.539191763</td>\n",
       "      <td>8290828.922022591</td>\n",
       "    </tr>\n",
       "    <tr>\n",
       "      <th>27.0</th>\n",
       "      <td>3238.0</td>\n",
       "      <td>1169407.9746446298</td>\n",
       "      <td>1167490.961412074</td>\n",
       "      <td>1102753.714721333</td>\n",
       "      <td>1127725.3177237164</td>\n",
       "      <td>1467657.0758681016</td>\n",
       "      <td>1435582.6527786325</td>\n",
       "      <td>1435582.6527786325</td>\n",
       "      <td>1498838.987397239</td>\n",
       "      <td>10131018.088766951</td>\n",
       "    </tr>\n",
       "    <tr>\n",
       "      <th>28.0</th>\n",
       "      <td>3188.0</td>\n",
       "      <td>1102556.0645376132</td>\n",
       "      <td>1119589.239257598</td>\n",
       "      <td>1122122.9263253054</td>\n",
       "      <td>1139736.0831639445</td>\n",
       "      <td>1076736.4842228463</td>\n",
       "      <td>1038755.7146914941</td>\n",
       "      <td>1038755.7146914941</td>\n",
       "      <td>1062579.0230740071</td>\n",
       "      <td>8760291.796198383</td>\n",
       "    </tr>\n",
       "    <tr>\n",
       "      <th>29.0</th>\n",
       "      <td>2956.0</td>\n",
       "      <td>515538.56828586775</td>\n",
       "      <td>501573.2882290931</td>\n",
       "      <td>503164.6476399662</td>\n",
       "      <td>504342.8810202696</td>\n",
       "      <td>500985.6420840942</td>\n",
       "      <td>507450.29937921424</td>\n",
       "      <td>507450.29937921424</td>\n",
       "      <td>506419.1956069256</td>\n",
       "      <td>4038531.1677311803</td>\n",
       "    </tr>\n",
       "    <tr>\n",
       "      <th>30.0</th>\n",
       "      <td>2342.0</td>\n",
       "      <td>316296.65571372386</td>\n",
       "      <td>319191.04566376307</td>\n",
       "      <td>320081.09620037937</td>\n",
       "      <td>320525.69944772</td>\n",
       "      <td>281179.5076979822</td>\n",
       "      <td>283010.8612853932</td>\n",
       "      <td>283010.8612853932</td>\n",
       "      <td>283296.3859805298</td>\n",
       "      <td>2440841.897105364</td>\n",
       "    </tr>\n",
       "    <tr>\n",
       "      <th>31.0</th>\n",
       "      <td>3188.0</td>\n",
       "      <td>1571298.58092208</td>\n",
       "      <td>1565728.971876597</td>\n",
       "      <td>1564186.1759224543</td>\n",
       "      <td>1538525.5514238323</td>\n",
       "      <td>1656481.8078411159</td>\n",
       "      <td>1656597.3880504183</td>\n",
       "      <td>1656597.3880504183</td>\n",
       "      <td>1629885.2400081232</td>\n",
       "      <td>12756829.236884288</td>\n",
       "    </tr>\n",
       "    <tr>\n",
       "      <th>32.0</th>\n",
       "      <td>3233.0</td>\n",
       "      <td>1362736.7940669185</td>\n",
       "      <td>1334091.8322822321</td>\n",
       "      <td>1320369.659636655</td>\n",
       "      <td>1318615.0889668765</td>\n",
       "      <td>1407325.7316116993</td>\n",
       "      <td>1409300.1488820908</td>\n",
       "      <td>1409300.1488820908</td>\n",
       "      <td>1419658.364339213</td>\n",
       "      <td>10906692.820855767</td>\n",
       "    </tr>\n",
       "    <tr>\n",
       "      <th>33.0</th>\n",
       "      <td>2092.0</td>\n",
       "      <td>220404.0846916451</td>\n",
       "      <td>224229.31194998938</td>\n",
       "      <td>223280.83007679312</td>\n",
       "      <td>226302.7765645356</td>\n",
       "      <td>215549.931185363</td>\n",
       "      <td>207094.65939589473</td>\n",
       "      <td>207094.65939589473</td>\n",
       "      <td>207542.20067541138</td>\n",
       "      <td>1753007.6265796626</td>\n",
       "    </tr>\n",
       "    <tr>\n",
       "      <th>34.0</th>\n",
       "      <td>3224.0</td>\n",
       "      <td>800046.7141461446</td>\n",
       "      <td>819140.6093501167</td>\n",
       "      <td>815886.924955768</td>\n",
       "      <td>814995.9421427329</td>\n",
       "      <td>779758.9995998434</td>\n",
       "      <td>786660.5865027686</td>\n",
       "      <td>786660.5865027686</td>\n",
       "      <td>789694.6524990252</td>\n",
       "      <td>6410980.383702669</td>\n",
       "    </tr>\n",
       "    <tr>\n",
       "      <th>35.0</th>\n",
       "      <td>2888.0</td>\n",
       "      <td>658023.1919186242</td>\n",
       "      <td>654670.0073391836</td>\n",
       "      <td>623336.4310212318</td>\n",
       "      <td>622726.5014484631</td>\n",
       "      <td>638109.9288811159</td>\n",
       "      <td>608646.0437194427</td>\n",
       "      <td>608646.0437194427</td>\n",
       "      <td>654828.8711174681</td>\n",
       "      <td>5126420.599195024</td>\n",
       "    </tr>\n",
       "    <tr>\n",
       "      <th>36.0</th>\n",
       "      <td>2033.0</td>\n",
       "      <td>276954.16160902835</td>\n",
       "      <td>277468.99766526575</td>\n",
       "      <td>273644.72961685766</td>\n",
       "      <td>274008.1751678867</td>\n",
       "      <td>263389.2267304255</td>\n",
       "      <td>259917.07913268975</td>\n",
       "      <td>259917.07913268975</td>\n",
       "      <td>262013.87929831236</td>\n",
       "      <td>2172362.166416323</td>\n",
       "    </tr>\n",
       "    <tr>\n",
       "      <th>37.0</th>\n",
       "      <td>2382.0</td>\n",
       "      <td>515666.7923462241</td>\n",
       "      <td>511710.90829714877</td>\n",
       "      <td>512655.8876331155</td>\n",
       "      <td>510621.6728273788</td>\n",
       "      <td>510204.8915699859</td>\n",
       "      <td>510968.3759607273</td>\n",
       "      <td>510968.3759607273</td>\n",
       "      <td>508559.5630865278</td>\n",
       "      <td>4089673.6380325397</td>\n",
       "    </tr>\n",
       "    <tr>\n",
       "      <th>38.0</th>\n",
       "      <td>2458.0</td>\n",
       "      <td>450141.5615759826</td>\n",
       "      <td>448093.1040365301</td>\n",
       "      <td>448298.7110977261</td>\n",
       "      <td>450451.3509944607</td>\n",
       "      <td>466907.1014605521</td>\n",
       "      <td>460561.9674226351</td>\n",
       "      <td>460561.9674226351</td>\n",
       "      <td>463241.5651285704</td>\n",
       "      <td>3633831.589036552</td>\n",
       "    </tr>\n",
       "    <tr>\n",
       "      <th>39.0</th>\n",
       "      <td>3132.0</td>\n",
       "      <td>1594733.3386097394</td>\n",
       "      <td>1604103.103773684</td>\n",
       "      <td>1612219.682268907</td>\n",
       "      <td>1601532.112818306</td>\n",
       "      <td>1667721.8452505874</td>\n",
       "      <td>1673491.1539345514</td>\n",
       "      <td>1673491.1539345514</td>\n",
       "      <td>1665251.2845778055</td>\n",
       "      <td>13009042.2767336</td>\n",
       "    </tr>\n",
       "    <tr>\n",
       "      <th>40.0</th>\n",
       "      <td>3217.0</td>\n",
       "      <td>982038.2055934727</td>\n",
       "      <td>945971.4203892562</td>\n",
       "      <td>933873.9624720551</td>\n",
       "      <td>934057.7450800899</td>\n",
       "      <td>934044.9850950461</td>\n",
       "      <td>928371.7023498162</td>\n",
       "      <td>928371.7023498162</td>\n",
       "      <td>949394.9982731096</td>\n",
       "      <td>7559719.189749722</td>\n",
       "    </tr>\n",
       "    <tr>\n",
       "      <th>41.0</th>\n",
       "      <td>3244.0</td>\n",
       "      <td>1419220.1426042868</td>\n",
       "      <td>1401561.949344785</td>\n",
       "      <td>1407000.709080718</td>\n",
       "      <td>1412592.7062095748</td>\n",
       "      <td>1384261.0854961479</td>\n",
       "      <td>1385542.6679519997</td>\n",
       "      <td>1385542.6679519997</td>\n",
       "      <td>1400320.812014394</td>\n",
       "      <td>11232677.362188376</td>\n",
       "    </tr>\n",
       "    <tr>\n",
       "      <th>42.0</th>\n",
       "      <td>2314.0</td>\n",
       "      <td>585209.286824038</td>\n",
       "      <td>573083.3690750055</td>\n",
       "      <td>579311.5924312761</td>\n",
       "      <td>571304.0568236202</td>\n",
       "      <td>585981.8585888053</td>\n",
       "      <td>601168.3901391684</td>\n",
       "      <td>601168.3901391684</td>\n",
       "      <td>593633.3685321336</td>\n",
       "      <td>4665555.784218448</td>\n",
       "    </tr>\n",
       "    <tr>\n",
       "      <th>43.0</th>\n",
       "      <td>2166.0</td>\n",
       "      <td>562025.0421258275</td>\n",
       "      <td>554431.4166042653</td>\n",
       "      <td>556286.2223355416</td>\n",
       "      <td>560909.5555413283</td>\n",
       "      <td>547840.6578701142</td>\n",
       "      <td>545796.4827915388</td>\n",
       "      <td>545796.4827915388</td>\n",
       "      <td>550163.4773893056</td>\n",
       "      <td>4441014.882899144</td>\n",
       "    </tr>\n",
       "    <tr>\n",
       "      <th>44.0</th>\n",
       "      <td>2392.0</td>\n",
       "      <td>323274.70363485254</td>\n",
       "      <td>321567.73365778546</td>\n",
       "      <td>320347.845481671</td>\n",
       "      <td>319451.9153732445</td>\n",
       "      <td>323177.52791445854</td>\n",
       "      <td>321710.8981202099</td>\n",
       "      <td>321710.8981202099</td>\n",
       "      <td>320209.43351479096</td>\n",
       "      <td>2576790.4661583044</td>\n",
       "    </tr>\n",
       "    <tr>\n",
       "      <th>45.0</th>\n",
       "      <td>2956.0</td>\n",
       "      <td>650242.4047374978</td>\n",
       "      <td>626230.0937560524</td>\n",
       "      <td>620578.7541014894</td>\n",
       "      <td>619409.9885901965</td>\n",
       "      <td>623235.89413538</td>\n",
       "      <td>620075.1540293137</td>\n",
       "      <td>620075.1540293137</td>\n",
       "      <td>624578.4552243357</td>\n",
       "      <td>5013797.044697989</td>\n",
       "    </tr>\n",
       "  </tbody>\n",
       "</table>\n",
       "</div>"
      ],
      "text/plain": [
       "         Dept                  W1                  W2                  W3  \\\n",
       "Store                                                                       \n",
       "1.0    3236.0  1720045.4995485072  1702062.3955126437  1708184.5570687642   \n",
       "2.0    3236.0   1809316.417506414   1790277.109546821  1792729.0269663916   \n",
       "3.0    2640.0    404685.589272328   400594.8528499089   406464.1606641031   \n",
       "4.0    3236.0  2129881.0012512207   2163642.233531046   2161335.170884229   \n",
       "5.0    2566.0  316699.76503526815  317625.86597606336  320942.27432087436   \n",
       "6.0    3236.0  1831445.6161954557  1760066.5566192332  1738885.0980538118   \n",
       "7.0    3126.0   559792.3921573746   585985.3737905913   594188.7431349964   \n",
       "8.0    3092.0  1002213.0972574197   993986.9177753734    991570.663557103   \n",
       "9.0    2532.0    599072.044811412   591660.3579371865    592853.370173003   \n",
       "10.0   3187.0  1609260.7566523864  1601675.2217940362  1599371.5646759367   \n",
       "11.0   3188.0    1371511.32180992   1357753.315626975  1373653.0931825787   \n",
       "12.0   2956.0   784145.3872447046   815364.9592772825   817543.3041696374   \n",
       "13.0   3331.0  2055355.8193798221  2014670.7612930639  1980206.2182565501   \n",
       "14.0   3156.0   1727409.582388475  1675434.3034282236  1645006.4244483102   \n",
       "15.0   3102.0  346555.07219102996   314731.7460689859   281148.4959960996   \n",
       "16.0   2994.0   578696.3411976632   586863.3415670388   585998.9832413374   \n",
       "17.0   3049.0   862496.3188757494   838128.0405719917   820204.9042639884   \n",
       "18.0   3006.0   930255.9978882129   904175.5575500325   899905.2669601475   \n",
       "19.0   3219.0  1099011.5779728745  1078328.9208325306  1035186.5076714432   \n",
       "20.0   3171.0   1878726.704910976  1826001.8047634747  1832074.6269416553   \n",
       "21.0   2956.0   808779.0433194428   792833.4589600986    791488.342090905   \n",
       "22.0   2907.0  1021143.9684348272   999847.1079052226  1000429.2511975849   \n",
       "23.0   3147.0  1388616.9554987622   1306194.694926584   1278788.408174191   \n",
       "24.0   3238.0  1113879.7792825985  1140014.7942133686  1126697.2479747771   \n",
       "25.0   2970.0   547172.1718871569   506124.3176788393   497083.8776223071   \n",
       "26.0   3141.0  1046509.5443726892  1010999.7838405338   985579.7446422753   \n",
       "27.0   3238.0  1169407.9746446298   1167490.961412074   1102753.714721333   \n",
       "28.0   3188.0  1102556.0645376132   1119589.239257598  1122122.9263253054   \n",
       "29.0   2956.0  515538.56828586775   501573.2882290931   503164.6476399662   \n",
       "30.0   2342.0  316296.65571372386  319191.04566376307  320081.09620037937   \n",
       "31.0   3188.0    1571298.58092208   1565728.971876597  1564186.1759224543   \n",
       "32.0   3233.0  1362736.7940669185  1334091.8322822321   1320369.659636655   \n",
       "33.0   2092.0   220404.0846916451  224229.31194998938  223280.83007679312   \n",
       "34.0   3224.0   800046.7141461446   819140.6093501167    815886.924955768   \n",
       "35.0   2888.0   658023.1919186242   654670.0073391836   623336.4310212318   \n",
       "36.0   2033.0  276954.16160902835  277468.99766526575  273644.72961685766   \n",
       "37.0   2382.0   515666.7923462241  511710.90829714877   512655.8876331155   \n",
       "38.0   2458.0   450141.5615759826   448093.1040365301   448298.7110977261   \n",
       "39.0   3132.0  1594733.3386097394   1604103.103773684   1612219.682268907   \n",
       "40.0   3217.0   982038.2055934727   945971.4203892562   933873.9624720551   \n",
       "41.0   3244.0  1419220.1426042868   1401561.949344785   1407000.709080718   \n",
       "42.0   2314.0    585209.286824038   573083.3690750055   579311.5924312761   \n",
       "43.0   2166.0   562025.0421258275   554431.4166042653   556286.2223355416   \n",
       "44.0   2392.0  323274.70363485254  321567.73365778546    320347.845481671   \n",
       "45.0   2956.0   650242.4047374978   626230.0937560524   620578.7541014894   \n",
       "\n",
       "                       W4                  W5                  W6  \\\n",
       "Store                                                               \n",
       "1.0     1697497.954849045  1778965.3583689872  1784627.7533489142   \n",
       "2.0    1745540.7075315062  1871015.3084202753  1884371.8453342183   \n",
       "3.0     395161.4944022105  411132.60608638165  412151.13127097517   \n",
       "4.0    2144153.4491442204   2189774.029374637   2215243.269227154   \n",
       "5.0     314896.0136208266  322876.80036983814  325632.90188456804   \n",
       "6.0    1739688.6080798353  1881637.8598359325  1858795.6429200494   \n",
       "7.0     599920.5111835853   587192.2537286993   598570.5534570753   \n",
       "8.0     977155.9549207583  1040958.2494621158  1045339.3611838911   \n",
       "9.0     584387.7993161704   613418.8699589721   615476.8208874714   \n",
       "10.0   1585116.4487958986  1542551.5988217404   1594677.715127034   \n",
       "11.0    1350969.898153991  1394349.0054770997    1399994.23257888   \n",
       "12.0    834401.4779603935   773938.8147292089   732670.9508120416   \n",
       "13.0   1979989.6580650886  1955593.5271655405  1958604.4460807357   \n",
       "14.0   1648770.3758729873  1659072.1980598008  1635400.2055548371   \n",
       "15.0    292228.6338904847   411570.1740312581  397566.95252023207   \n",
       "16.0    588834.3089730857   567340.0185428743   572278.5275912889   \n",
       "17.0    821684.1756524981   756026.5985626287   753668.4735760023   \n",
       "18.0    901096.4419213667   884034.1042335277   885722.5296798712   \n",
       "19.0   1055322.8037987007  1208508.6602313062  1197545.5624411479   \n",
       "20.0   1831664.7343840245   1815448.999142602   1844676.256324769   \n",
       "21.0     770276.059723268   843652.7312795563   844114.8560239446   \n",
       "22.0   1005579.6590261767   994367.2877875809   1005222.050580892   \n",
       "23.0   1278402.4815403705  1274593.2248909532  1263600.6299221849   \n",
       "24.0    1144579.379438045  1282856.4144380514  1293508.1800232264   \n",
       "25.0    494514.6291101257   487563.5698821773  480639.49223648943   \n",
       "26.0    987283.6870782551  1081759.3194113555  1062657.9589837636   \n",
       "27.0   1127725.3177237164  1467657.0758681016  1435582.6527786325   \n",
       "28.0   1139736.0831639445  1076736.4842228463  1038755.7146914941   \n",
       "29.0    504342.8810202696   500985.6420840942  507450.29937921424   \n",
       "30.0      320525.69944772   281179.5076979822   283010.8612853932   \n",
       "31.0   1538525.5514238323  1656481.8078411159  1656597.3880504183   \n",
       "32.0   1318615.0889668765  1407325.7316116993  1409300.1488820908   \n",
       "33.0    226302.7765645356    215549.931185363  207094.65939589473   \n",
       "34.0    814995.9421427329   779758.9995998434   786660.5865027686   \n",
       "35.0    622726.5014484631   638109.9288811159   608646.0437194427   \n",
       "36.0    274008.1751678867   263389.2267304255  259917.07913268975   \n",
       "37.0    510621.6728273788   510204.8915699859   510968.3759607273   \n",
       "38.0    450451.3509944607   466907.1014605521   460561.9674226351   \n",
       "39.0    1601532.112818306  1667721.8452505874  1673491.1539345514   \n",
       "40.0    934057.7450800899   934044.9850950461   928371.7023498162   \n",
       "41.0   1412592.7062095748  1384261.0854961479  1385542.6679519997   \n",
       "42.0    571304.0568236202   585981.8585888053   601168.3901391684   \n",
       "43.0    560909.5555413283   547840.6578701142   545796.4827915388   \n",
       "44.0    319451.9153732445  323177.52791445854   321710.8981202099   \n",
       "45.0    619409.9885901965     623235.89413538   620075.1540293137   \n",
       "\n",
       "                       W7                  W8                 All  \n",
       "Store                                                              \n",
       "1.0    1784627.7533489142  1770543.4125938618  13859460.253959455  \n",
       "2.0    1884371.8453342183  1838502.7678441037  14526564.381501142  \n",
       "3.0    412151.13127097517   399887.7785751886   3223190.053635055  \n",
       "4.0     2215243.269227154  2177992.7273188056   17308115.59901356  \n",
       "5.0    325632.90188456804   320390.1031731618   2554578.028698635  \n",
       "6.0    1858795.6429200494  1862575.4809113343  14456781.282764364  \n",
       "7.0     598570.5534570753   598780.4197100902   4699976.567292866  \n",
       "8.0    1045339.3611838911  1021129.2076556609   8062807.344568087  \n",
       "9.0     615476.8208874714   606283.6880705854   4792851.433527724  \n",
       "10.0    1594677.715127034   1612099.913936817  12693437.958976146  \n",
       "11.0     1399994.23257888  1374380.3149589717   10966567.49509638  \n",
       "12.0    732670.9508120416   754318.6870663507   6307923.205206863  \n",
       "13.0   1958604.4460807357  1982619.7537176518   16004733.93107748  \n",
       "14.0   1635400.2055548371  1670447.7996095056  13349870.102118723  \n",
       "15.0   397566.95252023207  431688.92917087546  2785926.1580554084  \n",
       "16.0    572278.5275912889   579865.6834899872    4648283.09430649  \n",
       "17.0    753668.4735760023   765127.2004410239   6497651.061732752  \n",
       "18.0    885722.5296798712    894537.162478742   7206509.424623491  \n",
       "19.0   1197545.5624411479  1239828.2146263272   8982864.459479831  \n",
       "20.0    1844676.256324769  1808931.6081508887  14662449.965233287  \n",
       "21.0    844114.8560239446   823623.8107249512  6469568.2630063025  \n",
       "22.0    1005222.050580892  1005790.8235796122   8028365.087000385  \n",
       "23.0   1263600.6299221849   1314309.758062167  10426241.071932063  \n",
       "24.0   1293508.1800232264  1300033.2378393393   9526316.684188113  \n",
       "25.0   480639.49223648943   487777.6258936467  4013793.3665003045  \n",
       "26.0   1062657.9589837636   1093596.539191763   8290828.922022591  \n",
       "27.0   1435582.6527786325   1498838.987397239  10131018.088766951  \n",
       "28.0   1038755.7146914941  1062579.0230740071   8760291.796198383  \n",
       "29.0   507450.29937921424   506419.1956069256  4038531.1677311803  \n",
       "30.0    283010.8612853932   283296.3859805298   2440841.897105364  \n",
       "31.0   1656597.3880504183  1629885.2400081232  12756829.236884288  \n",
       "32.0   1409300.1488820908   1419658.364339213  10906692.820855767  \n",
       "33.0   207094.65939589473  207542.20067541138  1753007.6265796626  \n",
       "34.0    786660.5865027686   789694.6524990252   6410980.383702669  \n",
       "35.0    608646.0437194427   654828.8711174681   5126420.599195024  \n",
       "36.0   259917.07913268975  262013.87929831236   2172362.166416323  \n",
       "37.0    510968.3759607273   508559.5630865278  4089673.6380325397  \n",
       "38.0    460561.9674226351   463241.5651285704   3633831.589036552  \n",
       "39.0   1673491.1539345514  1665251.2845778055    13009042.2767336  \n",
       "40.0    928371.7023498162   949394.9982731096   7559719.189749722  \n",
       "41.0   1385542.6679519997   1400320.812014394  11232677.362188376  \n",
       "42.0    601168.3901391684   593633.3685321336   4665555.784218448  \n",
       "43.0    545796.4827915388   550163.4773893056   4441014.882899144  \n",
       "44.0    321710.8981202099  320209.43351479096  2576790.4661583044  \n",
       "45.0    620075.1540293137   624578.4552243357   5013797.044697989  "
      ]
     },
     "execution_count": 44,
     "metadata": {},
     "output_type": "execute_result"
    }
   ],
   "source": [
    "results_df = results_df.astype(float)\n",
    "print(\"Store forecast weekly returns for the next 8 weeks:\")\n",
    "results_df.groupby('Store').sum(axis=0).astype(str)"
   ]
  },
  {
   "cell_type": "code",
   "execution_count": 46,
   "metadata": {},
   "outputs": [
    {
     "name": "stdout",
     "output_type": "stream",
     "text": [
      "Network forecast weekly returns for the next 8 weeks:\n"
     ]
    },
    {
     "data": {
      "text/plain": [
       "355064733.2126678"
      ]
     },
     "execution_count": 46,
     "metadata": {},
     "output_type": "execute_result"
    }
   ],
   "source": [
    "# Sum Sales forecast for the entire network\n",
    "print(\"Network forecast weekly returns for the next 8 weeks:\")\n",
    "results_df['All'].sum(axis=0)"
   ]
  },
  {
   "cell_type": "code",
   "execution_count": null,
   "metadata": {},
   "outputs": [],
   "source": []
  }
 ],
 "metadata": {
  "kernelspec": {
   "display_name": "Python 3",
   "language": "python",
   "name": "python3"
  },
  "language_info": {
   "codemirror_mode": {
    "name": "ipython",
    "version": 3
   },
   "file_extension": ".py",
   "mimetype": "text/x-python",
   "name": "python",
   "nbconvert_exporter": "python",
   "pygments_lexer": "ipython3",
   "version": "3.6.4"
  }
 },
 "nbformat": 4,
 "nbformat_minor": 2
}
