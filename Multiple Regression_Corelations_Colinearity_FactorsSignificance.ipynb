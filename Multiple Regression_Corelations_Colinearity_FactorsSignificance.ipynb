{
 "cells": [
  {
   "cell_type": "code",
   "execution_count": 2,
   "metadata": {},
   "outputs": [],
   "source": [
    "# Import libraries to be used\n",
    "import pandas as pd\n",
    "import numpy as np\n",
    "import seaborn as sns\n",
    "import matplotlib.pyplot as plt\n",
    "\n",
    "from sklearn.model_selection import train_test_split\n",
    "from sklearn.linear_model import LinearRegression\n",
    "from sklearn.metrics import mean_squared_error\n",
    "from sklearn.metrics import r2_score"
   ]
  },
  {
   "cell_type": "code",
   "execution_count": 3,
   "metadata": {},
   "outputs": [
    {
     "name": "stdout",
     "output_type": "stream",
     "text": [
      "current directory is : C:\\Users\\User\\projects\\retail_kaggle\n",
      "the /data folder contains:\n",
      "['Features data set.csv', 'sales data-set.csv', 'stores data-set.csv']\n"
     ]
    }
   ],
   "source": [
    "## Data Source: https://www.kaggle.com/manjeetsingh/retaildataset\n",
    "# read the ['Features data set.csv', 'sales data-set.csv', 'stores data-set.csv'] from the /data folder\n",
    "import os\n",
    "print(\"current directory is : \" + os.getcwd()) \n",
    "print('the /data folder contains:') \n",
    "print(os.listdir(\"./data\"))\n",
    "\n",
    "stores = pd.read_csv('./data/stores data-set.csv')\n",
    "features = pd.read_csv('./data/Features data set.csv')\n",
    "sales = pd.read_csv('./data/sales data-set.csv')"
   ]
  },
  {
   "cell_type": "code",
   "execution_count": 4,
   "metadata": {},
   "outputs": [],
   "source": [
    "## I don't intend to use so instead of replacing na-s with 0 I better drop them all\n",
    "markdown_cols = features.filter(like='MarkDown').columns\n",
    "for column in markdown_cols:\n",
    "     features = features.drop(column,axis=1)\n",
    "\n",
    "# On features Fill na gaps forward on CPI and Unemployment, Data seems sorted by date already\n",
    "# https://pandas.pydata.org/pandas-docs/stable/user_guide/missing_data.html\n",
    "features['CPI'] = features['CPI'].fillna(method='pad')\n",
    "features['Unemployment'] = features['Unemployment'].fillna(method='pad')"
   ]
  },
  {
   "cell_type": "code",
   "execution_count": 5,
   "metadata": {},
   "outputs": [
    {
     "data": {
      "text/html": [
       "<div>\n",
       "<style scoped>\n",
       "    .dataframe tbody tr th:only-of-type {\n",
       "        vertical-align: middle;\n",
       "    }\n",
       "\n",
       "    .dataframe tbody tr th {\n",
       "        vertical-align: top;\n",
       "    }\n",
       "\n",
       "    .dataframe thead th {\n",
       "        text-align: right;\n",
       "    }\n",
       "</style>\n",
       "<table border=\"1\" class=\"dataframe\">\n",
       "  <thead>\n",
       "    <tr style=\"text-align: right;\">\n",
       "      <th></th>\n",
       "      <th>Store</th>\n",
       "      <th>Dept</th>\n",
       "      <th>Weekly_Sales</th>\n",
       "      <th>IsHoliday</th>\n",
       "      <th>Temperature</th>\n",
       "      <th>Fuel_Price</th>\n",
       "      <th>CPI</th>\n",
       "      <th>Unemployment</th>\n",
       "      <th>Size</th>\n",
       "      <th>Year</th>\n",
       "      <th>Month</th>\n",
       "    </tr>\n",
       "  </thead>\n",
       "  <tbody>\n",
       "    <tr>\n",
       "      <th>count</th>\n",
       "      <td>420285.000000</td>\n",
       "      <td>420285.000000</td>\n",
       "      <td>420285.000000</td>\n",
       "      <td>420285.00000</td>\n",
       "      <td>420285.000000</td>\n",
       "      <td>420285.000000</td>\n",
       "      <td>420285.000000</td>\n",
       "      <td>420285.000000</td>\n",
       "      <td>420285.000000</td>\n",
       "      <td>420285.000000</td>\n",
       "      <td>420285.000000</td>\n",
       "    </tr>\n",
       "    <tr>\n",
       "      <th>mean</th>\n",
       "      <td>22.195477</td>\n",
       "      <td>44.242771</td>\n",
       "      <td>16030.329773</td>\n",
       "      <td>0.07034</td>\n",
       "      <td>60.090474</td>\n",
       "      <td>3.360888</td>\n",
       "      <td>171.212152</td>\n",
       "      <td>7.960077</td>\n",
       "      <td>136749.569176</td>\n",
       "      <td>2010.968443</td>\n",
       "      <td>6.478501</td>\n",
       "    </tr>\n",
       "    <tr>\n",
       "      <th>std</th>\n",
       "      <td>12.787213</td>\n",
       "      <td>30.507197</td>\n",
       "      <td>22728.500149</td>\n",
       "      <td>0.25572</td>\n",
       "      <td>18.448260</td>\n",
       "      <td>0.458523</td>\n",
       "      <td>39.162280</td>\n",
       "      <td>1.863873</td>\n",
       "      <td>60992.688568</td>\n",
       "      <td>0.796893</td>\n",
       "      <td>3.324688</td>\n",
       "    </tr>\n",
       "    <tr>\n",
       "      <th>min</th>\n",
       "      <td>1.000000</td>\n",
       "      <td>1.000000</td>\n",
       "      <td>0.000000</td>\n",
       "      <td>0.00000</td>\n",
       "      <td>-2.060000</td>\n",
       "      <td>2.472000</td>\n",
       "      <td>126.064000</td>\n",
       "      <td>3.879000</td>\n",
       "      <td>34875.000000</td>\n",
       "      <td>2010.000000</td>\n",
       "      <td>1.000000</td>\n",
       "    </tr>\n",
       "    <tr>\n",
       "      <th>25%</th>\n",
       "      <td>11.000000</td>\n",
       "      <td>18.000000</td>\n",
       "      <td>2117.560000</td>\n",
       "      <td>0.00000</td>\n",
       "      <td>46.680000</td>\n",
       "      <td>2.933000</td>\n",
       "      <td>132.022667</td>\n",
       "      <td>6.891000</td>\n",
       "      <td>93638.000000</td>\n",
       "      <td>2010.000000</td>\n",
       "      <td>4.000000</td>\n",
       "    </tr>\n",
       "    <tr>\n",
       "      <th>50%</th>\n",
       "      <td>22.000000</td>\n",
       "      <td>37.000000</td>\n",
       "      <td>7659.090000</td>\n",
       "      <td>0.00000</td>\n",
       "      <td>62.090000</td>\n",
       "      <td>3.452000</td>\n",
       "      <td>182.350989</td>\n",
       "      <td>7.866000</td>\n",
       "      <td>140167.000000</td>\n",
       "      <td>2011.000000</td>\n",
       "      <td>6.000000</td>\n",
       "    </tr>\n",
       "    <tr>\n",
       "      <th>75%</th>\n",
       "      <td>33.000000</td>\n",
       "      <td>74.000000</td>\n",
       "      <td>20268.380000</td>\n",
       "      <td>0.00000</td>\n",
       "      <td>74.280000</td>\n",
       "      <td>3.738000</td>\n",
       "      <td>212.445487</td>\n",
       "      <td>8.567000</td>\n",
       "      <td>202505.000000</td>\n",
       "      <td>2012.000000</td>\n",
       "      <td>9.000000</td>\n",
       "    </tr>\n",
       "    <tr>\n",
       "      <th>max</th>\n",
       "      <td>45.000000</td>\n",
       "      <td>99.000000</td>\n",
       "      <td>693099.360000</td>\n",
       "      <td>1.00000</td>\n",
       "      <td>100.140000</td>\n",
       "      <td>4.468000</td>\n",
       "      <td>227.232807</td>\n",
       "      <td>14.313000</td>\n",
       "      <td>219622.000000</td>\n",
       "      <td>2012.000000</td>\n",
       "      <td>12.000000</td>\n",
       "    </tr>\n",
       "  </tbody>\n",
       "</table>\n",
       "</div>"
      ],
      "text/plain": [
       "               Store           Dept   Weekly_Sales     IsHoliday  \\\n",
       "count  420285.000000  420285.000000  420285.000000  420285.00000   \n",
       "mean       22.195477      44.242771   16030.329773       0.07034   \n",
       "std        12.787213      30.507197   22728.500149       0.25572   \n",
       "min         1.000000       1.000000       0.000000       0.00000   \n",
       "25%        11.000000      18.000000    2117.560000       0.00000   \n",
       "50%        22.000000      37.000000    7659.090000       0.00000   \n",
       "75%        33.000000      74.000000   20268.380000       0.00000   \n",
       "max        45.000000      99.000000  693099.360000       1.00000   \n",
       "\n",
       "         Temperature     Fuel_Price            CPI   Unemployment  \\\n",
       "count  420285.000000  420285.000000  420285.000000  420285.000000   \n",
       "mean       60.090474       3.360888     171.212152       7.960077   \n",
       "std        18.448260       0.458523      39.162280       1.863873   \n",
       "min        -2.060000       2.472000     126.064000       3.879000   \n",
       "25%        46.680000       2.933000     132.022667       6.891000   \n",
       "50%        62.090000       3.452000     182.350989       7.866000   \n",
       "75%        74.280000       3.738000     212.445487       8.567000   \n",
       "max       100.140000       4.468000     227.232807      14.313000   \n",
       "\n",
       "                Size           Year          Month  \n",
       "count  420285.000000  420285.000000  420285.000000  \n",
       "mean   136749.569176    2010.968443       6.478501  \n",
       "std     60992.688568       0.796893       3.324688  \n",
       "min     34875.000000    2010.000000       1.000000  \n",
       "25%     93638.000000    2010.000000       4.000000  \n",
       "50%    140167.000000    2011.000000       6.000000  \n",
       "75%    202505.000000    2012.000000       9.000000  \n",
       "max    219622.000000    2012.000000      12.000000  "
      ]
     },
     "execution_count": 5,
     "metadata": {},
     "output_type": "execute_result"
    }
   ],
   "source": [
    "# merge left all tables, use only keys from left frame, similar to a SQL left outer join; preserve key order.\n",
    "    \n",
    "retail = pd.merge(sales, features, how = 'left', on = ['Store', 'Date', 'IsHoliday'])\n",
    "retail = pd.merge(retail, stores, how = 'left', on = ['Store'])\n",
    "\n",
    "# format date in datetime, we need it to extract Year and Year week later to split the data in train, test\n",
    "retail['Date'] = pd.to_datetime(retail['Date'])\n",
    "retail['Year'] = pd.DatetimeIndex(retail['Date']).year\n",
    "retail['Month'] = pd.DatetimeIndex(retail['Date']).month\n",
    "\n",
    "retail['Year-Week'] = retail['Date'].dt.strftime('%Y-%U')\n",
    "\n",
    "# I noticed there are Sales figures that are negative, cleanup:\n",
    "retail = retail[retail['Weekly_Sales']>=0]\n",
    "\n",
    "# turn IsHoliday into an Integer, useful later for numeric computations\n",
    "retail['IsHoliday'] = retail['IsHoliday'].astype(int)\n",
    "\n",
    "# Sort by Date as the data is not ordered by Date\n",
    "retail = retail.sort_values(by=['Date'])\n",
    "\n",
    "# checkout the dataset we're going to use further\n",
    "retail.describe()"
   ]
  },
  {
   "cell_type": "code",
   "execution_count": 5,
   "metadata": {},
   "outputs": [],
   "source": []
  },
  {
   "cell_type": "code",
   "execution_count": 7,
   "metadata": {},
   "outputs": [
    {
     "data": {
      "text/plain": [
       "<matplotlib.axes._subplots.AxesSubplot at 0x61efcf8>"
      ]
     },
     "execution_count": 7,
     "metadata": {},
     "output_type": "execute_result"
    },
    {
     "data": {
      "image/png": "[encoded data removed]",
      "text/plain": [
       "<Figure size 842.4x595.44 with 2 Axes>"
      ]
     },
     "metadata": {
      "needs_background": "light"
     },
     "output_type": "display_data"
    }
   ],
   "source": [
    "# Corelation analysis\n",
    "# Data analysis: visualisations, corr matrix for the numeric factors for \n",
    "col_features = ['Weekly_Sales','Temperature','Fuel_Price','CPI','Unemployment','Size', 'IsHoliday']\n",
    "a4_dims = (11.7, 8.27)\n",
    "fig, ax = plt.subplots(figsize=a4_dims)\n",
    "df = retail[col_features]\n",
    "sns.heatmap(df.corr(),annot=True,  fmt='.2f')"
   ]
  },
  {
   "cell_type": "code",
   "execution_count": 11,
   "metadata": {},
   "outputs": [],
   "source": [
    "# Detecting colinearity with Eigenvectors\n",
    "eigenvalues, eigenvectors = np.linalg.eig(df.corr())"
   ]
  },
  {
   "cell_type": "code",
   "execution_count": 12,
   "metadata": {},
   "outputs": [
    {
     "data": {
      "text/plain": [
       "0    0.514384\n",
       "4    0.746681\n",
       "6    0.896922\n",
       "5    0.987560\n",
       "3    1.219796\n",
       "2    1.295019\n",
       "1    1.339638\n",
       "dtype: float64"
      ]
     },
     "execution_count": 12,
     "metadata": {},
     "output_type": "execute_result"
    }
   ],
   "source": [
    "#Eigenvalues significance \n",
    "# Small (near 0,) means presence of colinearity (problem)\n",
    "pd.Series(eigenvalues).sort_values()"
   ]
  },
  {
   "cell_type": "code",
   "execution_count": 16,
   "metadata": {},
   "outputs": [
    {
     "name": "stdout",
     "output_type": "stream",
     "text": [
      "Size Weekly_Sales Unemployment\n"
     ]
    }
   ],
   "source": [
    "#Eigenvectors significance\n",
    "# highest values means highest loading meaning it contributes the most to the low eigenvalue\n",
    "np.abs(pd.Series(eigenvectors[:,4])).sort_values(ascending=False)\n",
    "print(df.columns[5], df.columns[0], df.columns[4])"
   ]
  },
  {
   "cell_type": "code",
   "execution_count": 7,
   "metadata": {},
   "outputs": [],
   "source": [
    "# Multiple regression\n",
    "#https://www.udemy.com/machine-learning-course-with-python/learn/v4/t/lecture/8454680?start=32\n",
    "#https://www.statsmodels.org/stable/regression.html\n",
    "# linear regression with multiple factors\n",
    "X_col = ['Temperature','Fuel_Price','CPI','Unemployment','Size', 'IsHoliday']\n",
    "y_col = ['Weekly_Sales']\n",
    "X = retail[X_col]\n",
    "y = retail[y_col] \n",
    "\n",
    "# Split the data in train test using sklearn \n",
    "X_train, X_test, y_train, y_test = train_test_split(X,y, test_size=0.2, random_state=0)"
   ]
  },
  {
   "cell_type": "code",
   "execution_count": null,
   "metadata": {},
   "outputs": [],
   "source": [
    "model =  LinearRegression()\n",
    "model.fit(X,y)\n",
    "result = pd.concat([pd.DataFrame(X.columns, columns=['name']),\n",
    "                          pd.DataFrame(np.transpose(model.coef_), columns=['coefficient'])], axis = 1).set_index('name')\n",
    "np.abs(result).sort_values(by='coefficient', ascending=False)"
   ]
  },
  {
   "cell_type": "code",
   "execution_count": 62,
   "metadata": {},
   "outputs": [
    {
     "name": "stdout",
     "output_type": "stream",
     "text": [
      "485111395.81834054\n"
     ]
    }
   ],
   "source": [
    "# Mean Squered error (MSE) best value is 0\n",
    "from sklearn.metrics import mean_squared_error\n",
    "y_pred = model.predict(X)\n",
    "print(mean_squared_error(y, y_pred))"
   ]
  },
  {
   "cell_type": "code",
   "execution_count": 67,
   "metadata": {},
   "outputs": [],
   "source": [
    "########### Scale Features, I see it doesn't work right ############################\n",
    "from sklearn.preprocessing import StandardScaler\n",
    "from sklearn.pipeline import make_pipeline\n",
    "scaler =  StandardScaler()\n",
    "Stand_coef_linear_reg = make_pipeline(scaler,model)"
   ]
  },
  {
   "cell_type": "code",
   "execution_count": 71,
   "metadata": {},
   "outputs": [
    {
     "name": "stderr",
     "output_type": "stream",
     "text": [
      "C:\\ProgramData\\Anaconda3\\lib\\site-packages\\sklearn\\preprocessing\\data.py:645: DataConversionWarning: Data with input dtype int32, int64, float64 were all converted to float64 by StandardScaler.\n",
      "  return self.partial_fit(X, y)\n",
      "C:\\ProgramData\\Anaconda3\\lib\\site-packages\\sklearn\\base.py:467: DataConversionWarning: Data with input dtype int32, int64, float64 were all converted to float64 by StandardScaler.\n",
      "  return self.fit(X, y, **fit_params).transform(X)\n"
     ]
    },
    {
     "data": {
      "text/html": [
       "<div>\n",
       "<style scoped>\n",
       "    .dataframe tbody tr th:only-of-type {\n",
       "        vertical-align: middle;\n",
       "    }\n",
       "\n",
       "    .dataframe tbody tr th {\n",
       "        vertical-align: top;\n",
       "    }\n",
       "\n",
       "    .dataframe thead th {\n",
       "        text-align: right;\n",
       "    }\n",
       "</style>\n",
       "<table border=\"1\" class=\"dataframe\">\n",
       "  <thead>\n",
       "    <tr style=\"text-align: right;\">\n",
       "      <th></th>\n",
       "      <th>coefficient</th>\n",
       "    </tr>\n",
       "    <tr>\n",
       "      <th>name</th>\n",
       "      <th></th>\n",
       "    </tr>\n",
       "  </thead>\n",
       "  <tbody>\n",
       "    <tr>\n",
       "      <th>Size</th>\n",
       "      <td>5543.157402</td>\n",
       "    </tr>\n",
       "    <tr>\n",
       "      <th>CPI</th>\n",
       "      <td>737.982872</td>\n",
       "    </tr>\n",
       "    <tr>\n",
       "      <th>Temperature</th>\n",
       "      <td>538.347190</td>\n",
       "    </tr>\n",
       "    <tr>\n",
       "      <th>Unemployment</th>\n",
       "      <td>492.385085</td>\n",
       "    </tr>\n",
       "    <tr>\n",
       "      <th>IsHoliday</th>\n",
       "      <td>359.419118</td>\n",
       "    </tr>\n",
       "    <tr>\n",
       "      <th>Fuel_Price</th>\n",
       "      <td>205.133006</td>\n",
       "    </tr>\n",
       "  </tbody>\n",
       "</table>\n",
       "</div>"
      ],
      "text/plain": [
       "              coefficient\n",
       "name                     \n",
       "Size          5543.157402\n",
       "CPI            737.982872\n",
       "Temperature    538.347190\n",
       "Unemployment   492.385085\n",
       "IsHoliday      359.419118\n",
       "Fuel_Price     205.133006"
      ]
     },
     "execution_count": 71,
     "metadata": {},
     "output_type": "execute_result"
    }
   ],
   "source": [
    "Stand_coef_linear_reg.fit(X,y)\n",
    "result1 = pd.concat([pd.DataFrame(X.columns, columns=['name']),\n",
    "                          pd.DataFrame(np.transpose(Stand_coef_linear_reg.steps[1][1].coef_), columns=['coefficient'])], axis = 1).set_index('name')\n",
    "np.abs(result).sort_values(by='coefficient', ascending=False)"
   ]
  },
  {
   "cell_type": "code",
   "execution_count": 66,
   "metadata": {},
   "outputs": [
    {
     "name": "stdout",
     "output_type": "stream",
     "text": [
      "485111395.8183406\n"
     ]
    },
    {
     "name": "stderr",
     "output_type": "stream",
     "text": [
      "C:\\ProgramData\\Anaconda3\\lib\\site-packages\\sklearn\\pipeline.py:331: DataConversionWarning: Data with input dtype int32, int64, float64 were all converted to float64 by StandardScaler.\n",
      "  Xt = transform.transform(Xt)\n"
     ]
    }
   ],
   "source": [
    "# Mean Squered error (MSE) best value is 0\n",
    "from sklearn.metrics import mean_squared_error\n",
    "y_pred = Stand_coef_linear_reg.predict(X)\n",
    "print(mean_squared_error(y, y_pred))"
   ]
  },
  {
   "cell_type": "code",
   "execution_count": 69,
   "metadata": {},
   "outputs": [
    {
     "data": {
      "text/plain": [
       "Pipeline(memory=None,\n",
       "     steps=[('standardscaler', StandardScaler(copy=True, with_mean=True, with_std=True)), ('linearregression', LinearRegression(copy_X=True, fit_intercept=True, n_jobs=None,\n",
       "         normalize=False))])"
      ]
     },
     "execution_count": 69,
     "metadata": {},
     "output_type": "execute_result"
    }
   ],
   "source": [
    "Stand_coef_linear_reg"
   ]
  },
  {
   "cell_type": "code",
   "execution_count": 72,
   "metadata": {},
   "outputs": [
    {
     "data": {
      "text/plain": [
       "array([[ 538.34718962, -205.13300554, -737.98287154, -492.38508525,\n",
       "        5543.15740225,  359.41911825]])"
      ]
     },
     "execution_count": 72,
     "metadata": {},
     "output_type": "execute_result"
    }
   ],
   "source": [
    "Stand_coef_linear_reg.steps[1][1].coef_"
   ]
  },
  {
   "cell_type": "code",
   "execution_count": 75,
   "metadata": {},
   "outputs": [],
   "source": [
    "## R squared multiple regression\n",
    "from sklearn.metrics import r2_score\n",
    "import statsmodels.api as sm\n",
    "import statsmodels.formula.api as smf"
   ]
  },
  {
   "cell_type": "code",
   "execution_count": 86,
   "metadata": {},
   "outputs": [
    {
     "data": {
      "text/plain": [
       "0.06084811814338309"
      ]
     },
     "execution_count": 86,
     "metadata": {},
     "output_type": "execute_result"
    }
   ],
   "source": [
    "linear_reg = smf.ols(formula = 'Weekly_Sales ~ Temperature + Fuel_Price + CPI + Unemployment + Size + IsHoliday', data =retail )"
   ]
  },
  {
   "cell_type": "code",
   "execution_count": 87,
   "metadata": {},
   "outputs": [
    {
     "data": {
      "text/plain": [
       "0.06024035831819308"
      ]
     },
     "execution_count": 87,
     "metadata": {},
     "output_type": "execute_result"
    }
   ],
   "source": [
    "linear_reg = smf.ols(formula = 'Weekly_Sales ~ Temperature + CPI + Size', data =retail )\n",
    "benchmark = linear_reg.fit()\n",
    "r2_score(y, benchmark.predict(df))"
   ]
  },
  {
   "cell_type": "code",
   "execution_count": null,
   "metadata": {},
   "outputs": [],
   "source": []
  }
 ],
 "metadata": {
  "kernelspec": {
   "display_name": "Python 3",
   "language": "python",
   "name": "python3"
  },
  "language_info": {
   "codemirror_mode": {
    "name": "ipython",
    "version": 3
   },
   "file_extension": ".py",
   "mimetype": "text/x-python",
   "name": "python",
   "nbconvert_exporter": "python",
   "pygments_lexer": "ipython3",
   "version": "3.7.3"
  }
 },
 "nbformat": 4,
 "nbformat_minor": 2
}
